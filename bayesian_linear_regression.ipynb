{
 "cells": [
  {
   "cell_type": "markdown",
   "metadata": {},
   "source": [
    "# Bayesian Linear Regression\n",
    "\n",
    "In this notebook was created by Martin Engqvist in 2021 with the goal to implement and test ideas for Bayesian linear regression models. Inspiration for the modified least squares was drawn from page 66 of the book \"A Bayesian Tutorial\" by By D. S. Sivia and J. Skilling (ISBN 978-0-19-856831-5). The use of basis functions (fixed non-linear functions of the input variables) was inspired by formula 3.2 from page 138 of the book \"Pattern recognition\" by C. M. Bishop (ISBN 978-1-4939-3843-8). Additional help with implementing the model in Pyro was drawn from http://pyro.ai/examples/bayesian_regression.html."
   ]
  },
  {
   "cell_type": "markdown",
   "metadata": {},
   "source": [
    "This program is free software: you can redistribute it and/or modify\n",
    "it under the terms of the GNU General Public License as published by\n",
    "the Free Software Foundation, either version 3 of the License, or\n",
    "(at your option) any later version.\n",
    "This program is distributed in the hope that it will be useful,\n",
    "but WITHOUT ANY WARRANTY; without even the implied warranty of\n",
    "MERCHANTABILITY or FITNESS FOR A PARTICULAR PURPOSE.  See the\n",
    "GNU General Public License for more details.\n",
    "You should have received a copy of the GNU General Public License\n",
    "along with this program.  If not, see <http://www.gnu.org/licenses/>."
   ]
  },
  {
   "cell_type": "code",
   "execution_count": 1,
   "metadata": {},
   "outputs": [
    {
     "data": {
      "text/plain": [
       "'pyro version: 1.4.0'"
      ]
     },
     "metadata": {},
     "output_type": "display_data"
    }
   ],
   "source": [
    "import os \n",
    "import numpy as np\n",
    "import pandas as pd\n",
    "import matplotlib.pyplot as plt\n",
    "import seaborn as sns\n",
    "from scipy.stats import beta\n",
    "import math\n",
    "import scipy\n",
    "\n",
    "import random \n",
    "\n",
    "from sklearn.metrics import mean_squared_error, r2_score\n",
    "from sklearn.model_selection import train_test_split\n",
    "\n",
    "import pyro\n",
    "import pyro.infer\n",
    "import pyro.optim\n",
    "import pyro.distributions as dist\n",
    "from pyro.nn import PyroModule\n",
    "from pyro import param\n",
    "from pyro.poutine import trace\n",
    "from pyro import condition\n",
    "from pyro.optim import Adam, ClippedAdam\n",
    "from pyro.infer import SVI, Trace_ELBO, HMC, MCMC, NUTS\n",
    "from pyro.contrib.autoguide import AutoDiagonalNormal, AutoMultivariateNormal, AutoContinuous, AutoGuide\n",
    "\n",
    "import torch\n",
    "\n",
    "from pprint import pprint\n",
    "\n",
    "\n",
    "from tqdm import tqdm\n",
    "\n",
    "from os.path import join, exists, basename\n",
    "\n",
    "SMALL_SIZE = 8\n",
    "MEDIUM_SIZE = 10\n",
    "BIGGER_SIZE = 12\n",
    "\n",
    "plt.rc('font', size=SMALL_SIZE)          # controls default text sizes\n",
    "plt.rc('axes', titlesize=SMALL_SIZE)     # fontsize of the axes title\n",
    "plt.rc('axes', labelsize=MEDIUM_SIZE)    # fontsize of the x and y labels\n",
    "plt.rc('xtick', labelsize=SMALL_SIZE)    # fontsize of the tick labels\n",
    "plt.rc('ytick', labelsize=SMALL_SIZE)    # fontsize of the tick labels\n",
    "plt.rc('legend', fontsize=SMALL_SIZE)    # legend fontsize\n",
    "plt.rc('figure', titlesize=BIGGER_SIZE)  # fontsize of the figure title\n",
    "\n",
    "# for CI testing\n",
    "smoke_test = ('CI' in os.environ)\n",
    "pyro.set_rng_seed(1)\n",
    "\n",
    "assert issubclass(PyroModule[torch.nn.Linear], torch.nn.Linear)\n",
    "assert issubclass(PyroModule[torch.nn.Linear], PyroModule)\n",
    "\n",
    "display('pyro version: {}'.format(pyro.__version__))\n",
    "\n",
    "pyro.set_rng_seed(101)"
   ]
  },
  {
   "cell_type": "markdown",
   "metadata": {},
   "source": [
    "## Linear models"
   ]
  },
  {
   "cell_type": "markdown",
   "metadata": {},
   "source": [
    "### Setup function to generate data"
   ]
  },
  {
   "cell_type": "code",
   "execution_count": 2,
   "metadata": {},
   "outputs": [],
   "source": [
    "def get_x(y):\n",
    "    pieces = 5\n",
    "    \n",
    "    X = []\n",
    "    for idx in range(pieces-1):\n",
    "        X.append(random.uniform(0, y-sum(X)))\n",
    "    X.append(y-sum(X))\n",
    "                  \n",
    "    # randomize the order\n",
    "    random.shuffle(X)\n",
    "                  \n",
    "    # devide by the weights (since I know the \"true\" fuction)\n",
    "    X = np.array(X) / np.array([1, 2, 3, 4, 5])\n",
    "    \n",
    "    return X.tolist()\n",
    "\n",
    "\n",
    "def generate_data(n=20, ymin=10, ymax=100, sigma=5):\n",
    "    X = []\n",
    "    y = []\n",
    "    stdevs = []\n",
    "    \n",
    "    for s in range(n):\n",
    "        # sample y three times (to simulate measurements)\n",
    "        mu = np.random.choice(np.arange(ymin, ymax))\n",
    "        measured_y = pyro.sample('y', dist.Normal(torch.ones(3)*mu, torch.ones(3)*sigma))\n",
    "\n",
    "        # add y and stdev to data\n",
    "        y.append(measured_y.mean().item())\n",
    "        stdevs.append(measured_y.std().item())\n",
    "\n",
    "        # find X to match this y\n",
    "        # y is a linear combination of x\n",
    "        # lm = x1*1 + x2*2 + x3*3 + x4*4 + x5*5 + 2.5 = y\n",
    "        X.append(get_x(mu-2.5))\n",
    "\n",
    "    df = pd.DataFrame({'y':y, 'stdev':stdevs})\n",
    "    df = df.join(pd.DataFrame(X, columns=['x{}'.format(i) for i in range(1, len(X[0])+1)]) )\n",
    "    \n",
    "    return df\n",
    "\n",
    "\n",
    "\n",
    "data_filepath = join('data', 'linear_model_balanced.tsv')\n",
    "if exists(data_filepath):\n",
    "    df = pd.read_csv(data_filepath, sep='\\t', index_col=0)\n",
    "    \n",
    "else:\n",
    "    # A set of data with low error\n",
    "    df_low = generate_data(n=30, ymin=5, ymax=100, sigma=5)\n",
    "\n",
    "    # A set of data with high error\n",
    "    df_high = generate_data(n=10, ymin=5, ymax=100, sigma=30)\n",
    "\n",
    "    # combine\n",
    "    df = df_low.append(df_high)\n",
    "\n",
    "    # randomize \n",
    "    df = df.sample(frac=1).reset_index(drop=True)\n",
    "    \n",
    "    # save it\n",
    "    df.to_csv(data_filepath, sep='\\t')\n",
    "\n",
    "\n",
    "# prepare splits\n",
    "train, test = train_test_split(df, test_size=0.2, random_state=42)\n",
    "\n",
    "X_train = train.drop(['y', 'stdev'], axis=1).to_numpy()\n",
    "y_train = train.y.to_numpy()\n",
    "stdev_train = train.stdev.to_numpy()\n",
    "\n",
    "X_test = test.drop(['y', 'stdev'], axis=1).to_numpy()\n",
    "y_test = test.y.to_numpy()\n",
    "stdev_test = test.stdev.to_numpy()"
   ]
  },
  {
   "cell_type": "code",
   "execution_count": 3,
   "metadata": {},
   "outputs": [
    {
     "data": {
      "image/png": "[encoded data removed]",
      "text/plain": [
       "<Figure size 648x216 with 2 Axes>"
      ]
     },
     "metadata": {
      "needs_background": "light"
     },
     "output_type": "display_data"
    }
   ],
   "source": [
    "fig, ax = plt.subplots(1, 2, figsize=(9,3))\n",
    "\n",
    "ax[0].hist(y_train)\n",
    "ax[0].set(xlabel=\"y\",\n",
    "          ylabel=\"frequency\",\n",
    "          title=\"Training set\")\n",
    "\n",
    "ax[1].hist(y_test)\n",
    "ax[1].set(xlabel=\"y\",\n",
    "          ylabel=\"frequency\",\n",
    "          title=\"Test set\")\n",
    "\n",
    "plt.show()"
   ]
  },
  {
   "cell_type": "markdown",
   "metadata": {},
   "source": [
    "## Fit a classical linear model"
   ]
  },
  {
   "cell_type": "code",
   "execution_count": 17,
   "metadata": {},
   "outputs": [],
   "source": [
    "# data to tensor\n",
    "X_train = torch.tensor(X_train)\n",
    "y_train = torch.tensor(y_train)\n",
    "stdev_train = torch.tensor(stdev_train)"
   ]
  },
  {
   "cell_type": "code",
   "execution_count": 18,
   "metadata": {},
   "outputs": [
    {
     "name": "stdout",
     "output_type": "stream",
     "text": [
      "[epoch:0], loss:191461.71\n",
      "[epoch:500], loss:3271.84\n",
      "[epoch:1000], loss:3270.94\n",
      "[epoch:1500], loss:3270.93\n",
      "[epoch:2000], loss:3270.93\n",
      "[epoch:2500], loss:3270.93\n",
      "[epoch:3000], loss:3270.93\n",
      "[epoch:3500], loss:3270.93\n",
      "[epoch:4000], loss:3270.93\n",
      "[epoch:4500], loss:3270.93\n",
      "[epoch:4999], loss:3270.93\n"
     ]
    },
    {
     "data": {
      "text/plain": [
       "{'weight': array([[0.89721241, 1.80172039, 2.94174182, 3.98737491, 5.2453369 ]]),\n",
       " 'bias': array([3.19198948])}"
      ]
     },
     "metadata": {},
     "output_type": "display_data"
    }
   ],
   "source": [
    "class LinearModelMSE(object):\n",
    "    \"\"\"A linear model fitted by MSE.\n",
    "    \"\"\"\n",
    "    def __init__(self, in_features, out_features, bias=True):\n",
    "        \n",
    "        self.in_features = in_features\n",
    "        self.out_features = out_features\n",
    "\n",
    "        self.use_bias = bias\n",
    " \n",
    "        # set the model\n",
    "        self.model = PyroModule[torch.nn.Linear](in_features, out_features).double()\n",
    "\n",
    "    def fit(self, X, y, lr=0.05, steps=2000):\n",
    "        \"\"\"Fit model to data\n",
    "        \"\"\"\n",
    "        pyro.clear_param_store()\n",
    "\n",
    "        # set up optimizer and loss function\n",
    "        self.optimizer = torch.optim.Adam(self.model.parameters(), lr=lr)\n",
    "        self.loss_fn = torch.nn.MSELoss(reduction='sum')\n",
    "\n",
    "        for j in range(steps):\n",
    "            # initialize gradients to zero\n",
    "            self.optimizer.zero_grad()\n",
    "            \n",
    "            # run the model forward on the data\n",
    "            y_pred = self.model(X).squeeze(-1)\n",
    "\n",
    "            # calculate the mse loss\n",
    "            loss = self.loss_fn(y_pred, y_train)\n",
    "\n",
    "            # backpropagate\n",
    "            loss.backward()\n",
    "\n",
    "            # take a gradient step\n",
    "            self.optimizer.step()            \n",
    "            \n",
    "            if j % 500 == 0:\n",
    "                print('[epoch:{}], loss:{:.2f}'.format(j, loss.item()))\n",
    "        print('[epoch:{}], loss:{:.2f}'.format(j, loss))\n",
    "        \n",
    "        \n",
    "    def predict(self, X):\n",
    "        \"\"\"Predict on new data\n",
    "        \"\"\"\n",
    "        self.model.requires_grad_(False)\n",
    "        \n",
    "        return self.model(X).detach().cpu().numpy().ravel()\n",
    "\n",
    "    \n",
    "    def get_params(self):\n",
    "        \"\"\"Get all the model parameters\n",
    "        \"\"\"\n",
    "        self.model.requires_grad_(False)\n",
    "\n",
    "        # Inspect learned parameters\n",
    "        params = {}\n",
    "        for name, param in self.model.named_parameters():\n",
    "            params[name] = param.data.numpy()\n",
    "\n",
    "        return params\n",
    "\n",
    "    \n",
    "mse_model = LinearModelMSE(X_train.shape[1], 1, bias=True)\n",
    "mse_model.fit(X_train, y_train, lr=0.05, steps=5000)\n",
    "\n",
    "display(mse_model.get_params())"
   ]
  },
  {
   "cell_type": "markdown",
   "metadata": {},
   "source": [
    "## Fit a classical linear model using a loss metric that accounts for measurement error\n",
    "A robust linear model which accounts for the standard deviation in y when fitting. According to page 66 in \"Data Analysis - A Bayesian Tutorial\" (ISBN 978-0-19-856831-5)."
   ]
  },
  {
   "cell_type": "code",
   "execution_count": 19,
   "metadata": {},
   "outputs": [
    {
     "name": "stdout",
     "output_type": "stream",
     "text": [
      "[epoch:0], loss:52505.63\n",
      "[epoch:500], loss:400.05\n",
      "[epoch:1000], loss:399.65\n",
      "[epoch:1500], loss:399.64\n",
      "[epoch:2000], loss:399.64\n",
      "[epoch:2500], loss:399.64\n",
      "[epoch:3000], loss:399.64\n",
      "[epoch:3500], loss:399.64\n",
      "[epoch:4000], loss:399.64\n",
      "[epoch:4500], loss:399.64\n",
      "[epoch:4999], loss:399.64\n"
     ]
    },
    {
     "data": {
      "text/plain": [
       "{'weight': array([[0.86735909, 1.92607943, 3.02490254, 3.92832848, 5.10107015]]),\n",
       " 'bias': array([2.53466897])}"
      ]
     },
     "metadata": {},
     "output_type": "display_data"
    }
   ],
   "source": [
    "class LinearModelErrorsMSE(LinearModelMSE):\n",
    "    \"\"\"\n",
    "    \"\"\"\n",
    "    def __init__(self, in_features, out_features, bias=True):\n",
    "        super().__init__(in_features, out_features)\n",
    "        \n",
    "        self.in_features = in_features\n",
    "        self.out_features = out_features\n",
    "\n",
    "        self.use_bias = bias\n",
    " \n",
    "        # set the model\n",
    "        self.model = PyroModule[torch.nn.Linear](in_features, out_features).double()\n",
    "        \n",
    "    def fit(self, X, y, y_errors, lr=0.05, steps=2000):\n",
    "        \"\"\"Fit model to data\n",
    "        \"\"\"\n",
    "        pyro.clear_param_store()\n",
    "\n",
    "        # set up optimizer and loss function\n",
    "        self.optimizer = torch.optim.Adam(self.model.parameters(), lr=lr)\n",
    "        self.loss_fn = torch.nn.MSELoss(reduction='none')\n",
    "\n",
    "        for j in range(steps):\n",
    "            # initialize gradients to zero\n",
    "            self.optimizer.zero_grad()\n",
    "            \n",
    "            # run the model forward on the data\n",
    "            y_pred = self.model(X).squeeze(-1)\n",
    "\n",
    "            # calculate the mse loss\n",
    "            loss = self.loss_fn(y_pred, y_train)\n",
    "            \n",
    "            # for each sample, divide the loss by its measurement error\n",
    "            loss = loss/y_errors\n",
    "            loss = loss.sum()\n",
    "\n",
    "            # backpropagate\n",
    "            loss.backward()\n",
    "\n",
    "            # take a gradient step\n",
    "            self.optimizer.step()            \n",
    "            \n",
    "            if j % 500 == 0:\n",
    "                print('[epoch:{}], loss:{:.2f}'.format(j, loss.item()))\n",
    "        print('[epoch:{}], loss:{:.2f}'.format(j, loss))\n",
    "        \n",
    "\n",
    "mse_model_errors = LinearModelErrorsMSE(X_train.shape[1], 1, bias=True)\n",
    "mse_model_errors.fit(X_train, y_train, stdev_train, lr=0.05, steps=5000)\n",
    "\n",
    "display(mse_model_errors.get_params())"
   ]
  },
  {
   "cell_type": "markdown",
   "metadata": {},
   "source": [
    "## Fit a hierarchical Bayesian model, which models the measurement error"
   ]
  },
  {
   "cell_type": "markdown",
   "metadata": {},
   "source": [
    "**Setup the model**"
   ]
  },
  {
   "cell_type": "code",
   "execution_count": 20,
   "metadata": {},
   "outputs": [
    {
     "name": "stdout",
     "output_type": "stream",
     "text": [
      "[epoch:0], loss:7958.95\n",
      "[epoch:500], loss:478.39\n",
      "[epoch:1000], loss:371.43\n",
      "[epoch:1500], loss:368.52\n",
      "[epoch:2000], loss:369.00\n",
      "[epoch:2500], loss:368.99\n",
      "[epoch:3000], loss:372.90\n",
      "[epoch:3500], loss:368.91\n",
      "[epoch:4000], loss:372.32\n",
      "[epoch:4500], loss:367.80\n",
      "[epoch:4999], loss:368.87\n"
     ]
    },
    {
     "data": {
      "text/plain": [
       "{'AutoDiagonalNormal.loc': Parameter containing:\n",
       " tensor([ 2.0201,  0.8431,  1.9787,  3.0911,  3.6937,  5.1334, -0.0094]),\n",
       " 'AutoDiagonalNormal.scale': tensor([0.2301, 0.0233, 0.0685, 0.0613, 0.0962, 0.1148, 0.1945])}"
      ]
     },
     "metadata": {},
     "output_type": "display_data"
    }
   ],
   "source": [
    "class BayesianLinearModel(object):\n",
    "    \"\"\"A hierarchical Bayesian linear model which accounts for measurement error in y.\n",
    "    \"\"\"\n",
    "    \n",
    "    def __init__(self, in_features, out_features, bias=True, non_linear=False, noise=0.5):\n",
    "        \n",
    "        self.in_features = in_features\n",
    "        self.out_features = out_features\n",
    "\n",
    "        self.use_bias = bias\n",
    "        self.non_linear = non_linear\n",
    "        self.noise = noise        \n",
    "        \n",
    "        # set the model and the guide\n",
    "        self.model = self.linear_model\n",
    "        self.guide = AutoDiagonalNormal(self.model)\n",
    "        \n",
    "    def linear_model(self, X, y=None, y_errors=None):\n",
    "        '''A bayesian linear model which accounts for errors in y\n",
    "        when estimating the hidden variables.\n",
    "        '''\n",
    "        # initialize the bias\n",
    "        if self.use_bias is True:\n",
    "            self.bias = pyro.sample('bias', dist.Normal(0.0, 10.0)).double()\n",
    "\n",
    "        # initialize the weights for each of the features\n",
    "        with pyro.plate('weight_plate', X.shape[1]):\n",
    "            self.weight = pyro.sample('weight', dist.Normal(0.0, 10.0)).double()\n",
    "            \n",
    "            # initialize exponents of X (for non-linearity)\n",
    "            if self.non_linear is True:\n",
    "                self.exponents = pyro.sample('exponents', dist.Normal(1.0, 1.0)).double()\n",
    "        \n",
    "        # sample the error\n",
    "        self.epsilon = pyro.sample('epsilon', dist.Normal(0.0, self.noise))       \n",
    "\n",
    "        with pyro.plate('observed_data', X.shape[0]):\n",
    "      \n",
    "            # sample distributions to make predictions for y\n",
    "            if self.use_bias is True and self.non_linear is False:\n",
    "                logits = self.bias + X.matmul(self.weight) + self.epsilon\n",
    "                \n",
    "            elif self.use_bias is False and self.non_linear is False:\n",
    "                logits = X.matmul(self.weight) + self.epsilon\n",
    "                \n",
    "            elif self.use_bias is True and self.non_linear is True:\n",
    "                logits = self.bias + X.pow(self.exponents).matmul(self.weight) + self.epsilon\n",
    "                \n",
    "            elif self.use_bias is False and self.non_linear is True:\n",
    "                logits = X.pow(self.exponents).matmul(self.weight) + self.epsilon\n",
    "                \n",
    "            else:\n",
    "                raise ValueError\n",
    "\n",
    "            # compare with the observed data\n",
    "            if y_errors is None:\n",
    "                pyro.sample('obs', dist.Normal(logits, torch.tensor(np.ones(X.shape[0])/10000)), obs=y)\n",
    "            else:\n",
    "                pyro.sample('obs', dist.Normal(logits, y_errors), obs=y)\n",
    "\n",
    "    def fit(self, X, y, y_errors=None, noise=0.5, weights=None, lr=0.01, steps=2000):\n",
    "        \"\"\"Fit model using stochastic variational inference (SVI)\n",
    "        \"\"\"\n",
    "        # Clear all the parameter store\n",
    "        pyro.clear_param_store()\n",
    "\n",
    "        self.optimizer = ClippedAdam({\"lr\": lr})\n",
    "        svi = SVI(model=self.model, guide=self.guide, optim=self.optimizer, loss=Trace_ELBO())\n",
    "\n",
    "        for i in range(steps):\n",
    "            loss = svi.step(X, y, y_errors)\n",
    "            if i % 500 == 0:\n",
    "                print('[epoch:{}], loss:{:.2f}'.format(i, loss))\n",
    "        print('[epoch:{}], loss:{:.2f}'.format(i, loss))\n",
    "        \n",
    "    def predict(self, X, return_std=False):\n",
    "        \"\"\"Predict on new data.\n",
    "        \"\"\"\n",
    "        self.guide.requires_grad_(False)\n",
    "        \n",
    "        # define sites to sample\n",
    "        predictive = pyro.infer.Predictive(self.model, guide=self.guide, num_samples=500,\n",
    "                                return_sites=(\"weight\", \"bias\", \"epsilon\", \"obs\"))\n",
    "        \n",
    "        # make the predictions\n",
    "        self.samples = predictive(X, y=None, y_errors=None)\n",
    "        \n",
    "        # get teh average and return\n",
    "        y_hat = self.samples['obs'].mean(axis=0).numpy()\n",
    "        std = self.samples['obs'].mean(axis=0).numpy()\n",
    "        \n",
    "        if return_std is True:\n",
    "            return y_hat, std\n",
    "        else:\n",
    "            return y_hat\n",
    "        \n",
    "    def get_samples(self):\n",
    "        \"\"\"Return all the sampled sites\n",
    "        \"\"\"\n",
    "        return self.samples       \n",
    "        \n",
    "    def get_params(self, quantiles=False):\n",
    "        \"\"\"Get all the model parameters\n",
    "        \"\"\"\n",
    "        self.guide.requires_grad_(False)\n",
    "\n",
    "        if quantiles is False:\n",
    "            params = {}\n",
    "            for name, value in pyro.get_param_store().items():\n",
    "                params[name] = pyro.param(name)\n",
    "        else:\n",
    "            pass\n",
    "\n",
    "        return params\n",
    "    \n",
    "#         return self.guide.quantiles([0.25, 0.5, 0.75])\n",
    "    \n",
    "    \n",
    "# stdev_train\n",
    "bayesian_model = BayesianLinearModel(X_train.shape[1], y_train.shape[0], bias=True, non_linear=False)\n",
    "bayesian_model.fit(X_train, y_train, stdev_train, steps=5000)\n",
    "\n",
    "display(bayesian_model.get_params())"
   ]
  },
  {
   "cell_type": "markdown",
   "metadata": {},
   "source": [
    "## Predict on test set and compare"
   ]
  },
  {
   "cell_type": "code",
   "execution_count": 21,
   "metadata": {},
   "outputs": [],
   "source": [
    "# data to tensor\n",
    "X_test = torch.tensor(X_test)\n",
    "y_test = torch.tensor(y_test)\n",
    "stdev_test = stdev_test"
   ]
  },
  {
   "cell_type": "code",
   "execution_count": 22,
   "metadata": {},
   "outputs": [
    {
     "data": {
      "image/png": "[encoded data removed]",
      "text/plain": [
       "<Figure size 864x288 with 3 Axes>"
      ]
     },
     "metadata": {
      "needs_background": "light"
     },
     "output_type": "display_data"
    }
   ],
   "source": [
    "# predict\n",
    "yhat_classical = mse_model.predict(X_test)\n",
    "yhat_errors = mse_model_errors.predict(X_test)\n",
    "yhat_bayes = bayesian_model.predict(X_test)\n",
    "\n",
    "# calculate rmsd and r2\n",
    "rmsd_classical = mean_squared_error(y_true=y_test, y_pred=yhat_classical, sample_weight=None, squared=False)\n",
    "r2_classical = r2_score(y_true=y_test, y_pred=yhat_classical, sample_weight=None)\n",
    "\n",
    "rmsd_errors = mean_squared_error(y_true=y_test, y_pred=yhat_errors, sample_weight=None, squared=False)\n",
    "r2_errors = r2_score(y_true=y_test, y_pred=yhat_errors, sample_weight=None)\n",
    "\n",
    "rmsd_bayes = mean_squared_error(y_true=y_test, y_pred=yhat_bayes, sample_weight=None, squared=False)\n",
    "r2_bayes = r2_score(y_true=y_test, y_pred=yhat_bayes, sample_weight=None)\n",
    "\n",
    "# plot the predictions\n",
    "fig, ax = plt.subplots(nrows=1, ncols=3, figsize=(12, 4), sharey=False)\n",
    "\n",
    "ax[0].errorbar(y_test.numpy(), yhat_classical, yerr=stdev_test, fmt=\"o\")\n",
    "ax[0].plot([0, 1], [0, 1], transform=ax[0].transAxes)\n",
    "ax[0].text(x=0.05, y=0.90, s='RMSD={:.2f}'.format(rmsd_classical), transform=ax[0].transAxes)\n",
    "ax[0].text(x=0.05, y=0.85, s='R2={:.2f}'.format(r2_classical), transform=ax[0].transAxes)\n",
    "ax[0].set(xlabel=\"y\",\n",
    "          ylabel=\"y_hat\",\n",
    "          title=\"Classical model, MSE, balanced data\",\n",
    "          xlim=(-20, 120),\n",
    "          ylim=(-20, 120))\n",
    "\n",
    "ax[1].errorbar(y_test.numpy(), yhat_errors, yerr=stdev_test, fmt=\"o\")\n",
    "ax[1].plot([0, 1], [0, 1], transform=ax[1].transAxes)\n",
    "ax[1].text(x=0.05, y=0.90, s='RMSD={:.2f}'.format(rmsd_errors), transform=ax[1].transAxes)\n",
    "ax[1].text(x=0.05, y=0.85, s='R2={:.2f}'.format(r2_errors), transform=ax[1].transAxes)\n",
    "ax[1].set(xlabel=\"y\",\n",
    "          ylabel=\"y_hat\",\n",
    "          title=\"Classical model, modified MSE, balanced data\",\n",
    "          xlim=(-20, 120),\n",
    "          ylim=(-20, 120))\n",
    "\n",
    "ax[2].errorbar(y_test.numpy(), yhat_bayes, yerr=stdev_test, fmt=\"o\")\n",
    "ax[2].plot([0, 1], [0, 1], transform=ax[2].transAxes)\n",
    "ax[2].text(x=0.05, y=0.90, s='RMSD={:.2f}'.format(rmsd_bayes), transform=ax[2].transAxes)\n",
    "ax[2].text(x=0.05, y=0.85, s='R2={:.2f}'.format(r2_bayes), transform=ax[2].transAxes)\n",
    "ax[2].set(xlabel=\"y\",\n",
    "          ylabel=\"y_hat\",\n",
    "          title=\"Bayesian model, balanced data\",\n",
    "          xlim=(-20, 120),\n",
    "          ylim=(-20, 120))\n",
    "\n",
    "plt.tight_layout()\n",
    "plt.show()"
   ]
  },
  {
   "cell_type": "markdown",
   "metadata": {},
   "source": [
    "Observations: The classical linear models with MSE performs the worst, fixing MSE to take measurement error into account alrady improves the model very significantly, but a full Bayesian treatment of the problem gives the best result. Pretty cool!"
   ]
  },
  {
   "cell_type": "markdown",
   "metadata": {},
   "source": [
    "# Incorporating weighting of samples\n",
    "Oftentimes the datasets are skewed and many more samples exist from one part of the distribution than from other parts. Here I want to modify the loss functions so that I can pass a weight parameter (between 0.0 and 1.0) such that over-represented samples can be down-weighted to get a better overall fit of the model."
   ]
  },
  {
   "cell_type": "markdown",
   "metadata": {},
   "source": [
    "## Make unbalanced train and test sets"
   ]
  },
  {
   "cell_type": "code",
   "execution_count": 23,
   "metadata": {},
   "outputs": [],
   "source": [
    "data_filepath = join('data', 'linear_model_un-balanced.tsv')\n",
    "if exists(data_filepath):\n",
    "    df = pd.read_csv(data_filepath, sep='\\t', index_col=0)\n",
    "    \n",
    "else:\n",
    "    # A set of data with low error\n",
    "    df_low = generate_data(n=30, ymin=5, ymax=100, sigma=5)\n",
    "\n",
    "    # A set of data with high error\n",
    "    df_high = generate_data(n=10, ymin=5, ymax=100, sigma=30)\n",
    "    \n",
    "    # Add even more low error data toward the low range\n",
    "    df_low_extra = generate_data(n=150, ymin=0, ymax=35, sigma=5)\n",
    "    \n",
    "    # Add even more high error data toward the low range\n",
    "    df_high_extra = generate_data(n=150, ymin=0, ymax=35, sigma=5)\n",
    "    \n",
    "    # combine\n",
    "    df = df_low.append([df_high, df_low_extra, df_high_extra])\n",
    "\n",
    "    # randomize \n",
    "    df = df.sample(frac=1).reset_index(drop=True)\n",
    "    \n",
    "    # save it\n",
    "    df.to_csv(data_filepath, sep='\\t')\n",
    "\n",
    "\n",
    "# prepare splits\n",
    "train, test = train_test_split(df, test_size=0.2, random_state=42)\n",
    "\n",
    "X_train = train.drop(['y', 'stdev'], axis=1).to_numpy()\n",
    "y_train = train.y.to_numpy()\n",
    "stdev_train = train.stdev.to_numpy()\n",
    "\n",
    "X_test = test.drop(['y', 'stdev'], axis=1).to_numpy()\n",
    "y_test = test.y.to_numpy()\n",
    "stdev_test = test.stdev.to_numpy()"
   ]
  },
  {
   "cell_type": "code",
   "execution_count": 24,
   "metadata": {},
   "outputs": [
    {
     "data": {
      "image/png": "[encoded data removed]",
      "text/plain": [
       "<Figure size 648x216 with 2 Axes>"
      ]
     },
     "metadata": {
      "needs_background": "light"
     },
     "output_type": "display_data"
    }
   ],
   "source": [
    "fig, ax = plt.subplots(1, 2, figsize=(9,3))\n",
    "\n",
    "ax[0].hist(y_train)\n",
    "ax[0].set(xlabel=\"y\",\n",
    "          ylabel=\"frequency\",\n",
    "          title=\"Training set\")\n",
    "\n",
    "ax[1].hist(y_test)\n",
    "ax[1].set(xlabel=\"y\",\n",
    "          ylabel=\"frequency\",\n",
    "          title=\"Test set\")\n",
    "\n",
    "plt.show()"
   ]
  },
  {
   "cell_type": "markdown",
   "metadata": {},
   "source": [
    "## Modify the linear model to accept sample weights"
   ]
  },
  {
   "cell_type": "code",
   "execution_count": 28,
   "metadata": {},
   "outputs": [
    {
     "name": "stderr",
     "output_type": "stream",
     "text": [
      "/home/martin/miniconda3/envs/pyro/lib/python3.7/site-packages/ipykernel_launcher.py:2: UserWarning: To copy construct from a tensor, it is recommended to use sourceTensor.clone().detach() or sourceTensor.clone().detach().requires_grad_(True), rather than torch.tensor(sourceTensor).\n",
      "  \n",
      "/home/martin/miniconda3/envs/pyro/lib/python3.7/site-packages/ipykernel_launcher.py:3: UserWarning: To copy construct from a tensor, it is recommended to use sourceTensor.clone().detach() or sourceTensor.clone().detach().requires_grad_(True), rather than torch.tensor(sourceTensor).\n",
      "  This is separate from the ipykernel package so we can avoid doing imports until\n",
      "/home/martin/miniconda3/envs/pyro/lib/python3.7/site-packages/ipykernel_launcher.py:4: UserWarning: To copy construct from a tensor, it is recommended to use sourceTensor.clone().detach() or sourceTensor.clone().detach().requires_grad_(True), rather than torch.tensor(sourceTensor).\n",
      "  after removing the cwd from sys.path.\n"
     ]
    }
   ],
   "source": [
    "# data to tensor\n",
    "X_train = torch.tensor(X_train)\n",
    "y_train = torch.tensor(y_train)\n",
    "stdev_train = torch.tensor(stdev_train)"
   ]
  },
  {
   "cell_type": "code",
   "execution_count": 48,
   "metadata": {},
   "outputs": [
    {
     "name": "stdout",
     "output_type": "stream",
     "text": [
      "[epoch:0], loss:69591.35\n",
      "[epoch:500], loss:922.78\n",
      "[epoch:1000], loss:922.53\n",
      "[epoch:1500], loss:922.53\n",
      "[epoch:2000], loss:922.53\n",
      "[epoch:2500], loss:922.53\n",
      "[epoch:3000], loss:922.53\n",
      "[epoch:3500], loss:922.53\n",
      "[epoch:4000], loss:922.53\n",
      "[epoch:4500], loss:922.53\n",
      "[epoch:4999], loss:922.53\n"
     ]
    },
    {
     "data": {
      "text/plain": [
       "{'weight': array([[0.99313266, 1.95915483, 2.94885586, 4.37347528, 4.57554116]]),\n",
       " 'bias': array([2.72232319])}"
      ]
     },
     "metadata": {},
     "output_type": "display_data"
    }
   ],
   "source": [
    "class LinearModelErrorsWeightsMSE(LinearModelMSE):\n",
    "    \"\"\"\n",
    "    \"\"\"\n",
    "    def __init__(self, in_features, out_features, bias=True):\n",
    "        super().__init__(in_features, out_features)\n",
    "        \n",
    "    def fit(self, X, y, y_errors, weights, lr=0.05, steps=2000):\n",
    "        \"\"\"Fit model to data\n",
    "        \"\"\"\n",
    "        pyro.clear_param_store()\n",
    "\n",
    "        # set up optimizer and loss function\n",
    "        self.optimizer = torch.optim.Adam(self.model.parameters(), lr=lr)\n",
    "        self.loss_fn = torch.nn.MSELoss(reduction='none')\n",
    "\n",
    "        for j in range(steps):\n",
    "            # initialize gradients to zero\n",
    "            self.optimizer.zero_grad()\n",
    "            \n",
    "            # run the model forward on the data\n",
    "            y_pred = self.model(X).squeeze(-1)\n",
    "\n",
    "            # calculate the mse loss\n",
    "            loss = self.loss_fn(y_pred, y_train)\n",
    "            \n",
    "            # for each sample, divide the loss by its measurement error and multiply by sample weight\n",
    "            loss = loss/y_errors\n",
    "            loss = loss * weights\n",
    "            loss = loss.sum()\n",
    "\n",
    "            # backpropagate\n",
    "            loss.backward()\n",
    "\n",
    "            # take a gradient step\n",
    "            self.optimizer.step()            \n",
    "            \n",
    "            if j % 500 == 0:\n",
    "                print('[epoch:{}], loss:{:.2f}'.format(j, loss.item()))\n",
    "        print('[epoch:{}], loss:{:.2f}'.format(j, loss))\n",
    "        \n",
    "\n",
    "mse_model_errors_weights = LinearModelErrorsWeightsMSE(X_train.shape[1], 1, bias=True)\n",
    "mse_model_errors_weights.fit(X_train, y_train, stdev_train, torch.ones(X_train.shape[0]), lr=0.05, steps=5000)\n",
    "\n",
    "display(mse_model_errors_weights.get_params())"
   ]
  },
  {
   "cell_type": "markdown",
   "metadata": {},
   "source": [
    "## Modify Bayesian model to accept sample weights"
   ]
  },
  {
   "cell_type": "code",
   "execution_count": 50,
   "metadata": {},
   "outputs": [
    {
     "ename": "ValueError",
     "evalue": "optimizer got an empty parameter list",
     "output_type": "error",
     "traceback": [
      "\u001b[0;31m---------------------------------------------------------------------------\u001b[0m",
      "\u001b[0;31mValueError\u001b[0m                                Traceback (most recent call last)",
      "\u001b[0;32m<ipython-input-50-3b5460a3c44c>\u001b[0m in \u001b[0;36m<module>\u001b[0;34m\u001b[0m\n\u001b[1;32m     33\u001b[0m \u001b[0;31m# stdev_train\u001b[0m\u001b[0;34m\u001b[0m\u001b[0;34m\u001b[0m\u001b[0;34m\u001b[0m\u001b[0m\n\u001b[1;32m     34\u001b[0m \u001b[0mbayesian_model_weights\u001b[0m \u001b[0;34m=\u001b[0m \u001b[0mBayesianLinearModelWeights\u001b[0m\u001b[0;34m(\u001b[0m\u001b[0mX_train\u001b[0m\u001b[0;34m.\u001b[0m\u001b[0mshape\u001b[0m\u001b[0;34m[\u001b[0m\u001b[0;36m1\u001b[0m\u001b[0;34m]\u001b[0m\u001b[0;34m,\u001b[0m \u001b[0my_train\u001b[0m\u001b[0;34m.\u001b[0m\u001b[0mshape\u001b[0m\u001b[0;34m[\u001b[0m\u001b[0;36m0\u001b[0m\u001b[0;34m]\u001b[0m\u001b[0;34m,\u001b[0m \u001b[0mbias\u001b[0m\u001b[0;34m=\u001b[0m\u001b[0;32mTrue\u001b[0m\u001b[0;34m,\u001b[0m \u001b[0mnon_linear\u001b[0m\u001b[0;34m=\u001b[0m\u001b[0;32mFalse\u001b[0m\u001b[0;34m)\u001b[0m\u001b[0;34m\u001b[0m\u001b[0;34m\u001b[0m\u001b[0m\n\u001b[0;32m---> 35\u001b[0;31m \u001b[0mbayesian_model_weights\u001b[0m\u001b[0;34m.\u001b[0m\u001b[0mfit\u001b[0m\u001b[0;34m(\u001b[0m\u001b[0mX_train\u001b[0m\u001b[0;34m,\u001b[0m \u001b[0my_train\u001b[0m\u001b[0;34m,\u001b[0m \u001b[0mstdev_train\u001b[0m\u001b[0;34m,\u001b[0m \u001b[0mnoise\u001b[0m\u001b[0;34m=\u001b[0m\u001b[0;36m0.5\u001b[0m\u001b[0;34m,\u001b[0m \u001b[0mweights\u001b[0m\u001b[0;34m=\u001b[0m\u001b[0mtorch\u001b[0m\u001b[0;34m.\u001b[0m\u001b[0mones\u001b[0m\u001b[0;34m(\u001b[0m\u001b[0mX_train\u001b[0m\u001b[0;34m.\u001b[0m\u001b[0mshape\u001b[0m\u001b[0;34m[\u001b[0m\u001b[0;36m0\u001b[0m\u001b[0;34m]\u001b[0m\u001b[0;34m)\u001b[0m\u001b[0;34m,\u001b[0m \u001b[0msteps\u001b[0m\u001b[0;34m=\u001b[0m\u001b[0;36m5000\u001b[0m\u001b[0;34m)\u001b[0m\u001b[0;34m\u001b[0m\u001b[0;34m\u001b[0m\u001b[0m\n\u001b[0m\u001b[1;32m     36\u001b[0m \u001b[0;34m\u001b[0m\u001b[0m\n\u001b[1;32m     37\u001b[0m \u001b[0mdisplay\u001b[0m\u001b[0;34m(\u001b[0m\u001b[0mbayesian_model\u001b[0m\u001b[0;34m.\u001b[0m\u001b[0mget_params\u001b[0m\u001b[0;34m(\u001b[0m\u001b[0;34m)\u001b[0m\u001b[0;34m)\u001b[0m\u001b[0;34m\u001b[0m\u001b[0;34m\u001b[0m\u001b[0m\n",
      "\u001b[0;32m<ipython-input-50-3b5460a3c44c>\u001b[0m in \u001b[0;36mfit\u001b[0;34m(self, X, y, y_errors, noise, weights, lr, steps)\u001b[0m\n\u001b[1;32m     12\u001b[0m         \u001b[0mpyro\u001b[0m\u001b[0;34m.\u001b[0m\u001b[0mclear_param_store\u001b[0m\u001b[0;34m(\u001b[0m\u001b[0;34m)\u001b[0m\u001b[0;34m\u001b[0m\u001b[0;34m\u001b[0m\u001b[0m\n\u001b[1;32m     13\u001b[0m \u001b[0;34m\u001b[0m\u001b[0m\n\u001b[0;32m---> 14\u001b[0;31m         \u001b[0mself\u001b[0m\u001b[0;34m.\u001b[0m\u001b[0moptimizer\u001b[0m \u001b[0;34m=\u001b[0m \u001b[0mtorch\u001b[0m\u001b[0;34m.\u001b[0m\u001b[0moptim\u001b[0m\u001b[0;34m.\u001b[0m\u001b[0mAdam\u001b[0m\u001b[0;34m(\u001b[0m\u001b[0mself\u001b[0m\u001b[0;34m.\u001b[0m\u001b[0mguide\u001b[0m\u001b[0;34m.\u001b[0m\u001b[0mparameters\u001b[0m\u001b[0;34m(\u001b[0m\u001b[0;34m)\u001b[0m\u001b[0;34m,\u001b[0m \u001b[0mlr\u001b[0m\u001b[0;34m=\u001b[0m\u001b[0;36m0.01\u001b[0m\u001b[0;34m)\u001b[0m\u001b[0;34m\u001b[0m\u001b[0;34m\u001b[0m\u001b[0m\n\u001b[0m\u001b[1;32m     15\u001b[0m         \u001b[0mself\u001b[0m\u001b[0;34m.\u001b[0m\u001b[0mcriterion\u001b[0m \u001b[0;34m=\u001b[0m \u001b[0mTrace_ELBO\u001b[0m\u001b[0;34m(\u001b[0m\u001b[0;34m)\u001b[0m\u001b[0;34m\u001b[0m\u001b[0;34m\u001b[0m\u001b[0m\n\u001b[1;32m     16\u001b[0m         \u001b[0;31m# criterion = simple_elbo\u001b[0m\u001b[0;34m\u001b[0m\u001b[0;34m\u001b[0m\u001b[0;34m\u001b[0m\u001b[0m\n",
      "\u001b[0;32m~/miniconda3/envs/pyro/lib/python3.7/site-packages/torch/optim/adam.py\u001b[0m in \u001b[0;36m__init__\u001b[0;34m(self, params, lr, betas, eps, weight_decay, amsgrad)\u001b[0m\n\u001b[1;32m     46\u001b[0m         defaults = dict(lr=lr, betas=betas, eps=eps,\n\u001b[1;32m     47\u001b[0m                         weight_decay=weight_decay, amsgrad=amsgrad)\n\u001b[0;32m---> 48\u001b[0;31m         \u001b[0msuper\u001b[0m\u001b[0;34m(\u001b[0m\u001b[0mAdam\u001b[0m\u001b[0;34m,\u001b[0m \u001b[0mself\u001b[0m\u001b[0;34m)\u001b[0m\u001b[0;34m.\u001b[0m\u001b[0m__init__\u001b[0m\u001b[0;34m(\u001b[0m\u001b[0mparams\u001b[0m\u001b[0;34m,\u001b[0m \u001b[0mdefaults\u001b[0m\u001b[0;34m)\u001b[0m\u001b[0;34m\u001b[0m\u001b[0;34m\u001b[0m\u001b[0m\n\u001b[0m\u001b[1;32m     49\u001b[0m \u001b[0;34m\u001b[0m\u001b[0m\n\u001b[1;32m     50\u001b[0m     \u001b[0;32mdef\u001b[0m \u001b[0m__setstate__\u001b[0m\u001b[0;34m(\u001b[0m\u001b[0mself\u001b[0m\u001b[0;34m,\u001b[0m \u001b[0mstate\u001b[0m\u001b[0;34m)\u001b[0m\u001b[0;34m:\u001b[0m\u001b[0;34m\u001b[0m\u001b[0;34m\u001b[0m\u001b[0m\n",
      "\u001b[0;32m~/miniconda3/envs/pyro/lib/python3.7/site-packages/torch/optim/optimizer.py\u001b[0m in \u001b[0;36m__init__\u001b[0;34m(self, params, defaults)\u001b[0m\n\u001b[1;32m     48\u001b[0m         \u001b[0mparam_groups\u001b[0m \u001b[0;34m=\u001b[0m \u001b[0mlist\u001b[0m\u001b[0;34m(\u001b[0m\u001b[0mparams\u001b[0m\u001b[0;34m)\u001b[0m\u001b[0;34m\u001b[0m\u001b[0;34m\u001b[0m\u001b[0m\n\u001b[1;32m     49\u001b[0m         \u001b[0;32mif\u001b[0m \u001b[0mlen\u001b[0m\u001b[0;34m(\u001b[0m\u001b[0mparam_groups\u001b[0m\u001b[0;34m)\u001b[0m \u001b[0;34m==\u001b[0m \u001b[0;36m0\u001b[0m\u001b[0;34m:\u001b[0m\u001b[0;34m\u001b[0m\u001b[0;34m\u001b[0m\u001b[0m\n\u001b[0;32m---> 50\u001b[0;31m             \u001b[0;32mraise\u001b[0m \u001b[0mValueError\u001b[0m\u001b[0;34m(\u001b[0m\u001b[0;34m\"optimizer got an empty parameter list\"\u001b[0m\u001b[0;34m)\u001b[0m\u001b[0;34m\u001b[0m\u001b[0;34m\u001b[0m\u001b[0m\n\u001b[0m\u001b[1;32m     51\u001b[0m         \u001b[0;32mif\u001b[0m \u001b[0;32mnot\u001b[0m \u001b[0misinstance\u001b[0m\u001b[0;34m(\u001b[0m\u001b[0mparam_groups\u001b[0m\u001b[0;34m[\u001b[0m\u001b[0;36m0\u001b[0m\u001b[0;34m]\u001b[0m\u001b[0;34m,\u001b[0m \u001b[0mdict\u001b[0m\u001b[0;34m)\u001b[0m\u001b[0;34m:\u001b[0m\u001b[0;34m\u001b[0m\u001b[0;34m\u001b[0m\u001b[0m\n\u001b[1;32m     52\u001b[0m             \u001b[0mparam_groups\u001b[0m \u001b[0;34m=\u001b[0m \u001b[0;34m[\u001b[0m\u001b[0;34m{\u001b[0m\u001b[0;34m'params'\u001b[0m\u001b[0;34m:\u001b[0m \u001b[0mparam_groups\u001b[0m\u001b[0;34m}\u001b[0m\u001b[0;34m]\u001b[0m\u001b[0;34m\u001b[0m\u001b[0;34m\u001b[0m\u001b[0m\n",
      "\u001b[0;31mValueError\u001b[0m: optimizer got an empty parameter list"
     ]
    }
   ],
   "source": [
    "class BayesianLinearModelWeights(BayesianLinearModel):\n",
    "    \"\"\"A hierarchical Bayesian linear model which accounts for measurement error in y.\n",
    "    \"\"\"\n",
    "    \n",
    "    def __init__(self, in_features, out_features, bias=True, non_linear=False, noise=0.5):\n",
    "        super().__init__(in_features, out_features, bias, non_linear, noise)\n",
    "\n",
    "    def fit(self, X, y, y_errors=None, noise=0.5, weights=None, lr=0.01, steps=2000):\n",
    "        \"\"\"Fit model using stochastic variational inference (SVI)\n",
    "        \"\"\"\n",
    "        # Clear all the parameter store\n",
    "        pyro.clear_param_store()\n",
    "\n",
    "        self.optimizer = torch.optim.Adam(self.guide.parameters(), lr=0.01)\n",
    "        self.criterion = Trace_ELBO()\n",
    "        # criterion = simple_elbo\n",
    "\n",
    "#         for j in range(steps):\n",
    "#             self.optimizer.zero_grad()\n",
    "#         #     x = x.cuda()\n",
    "#             loss = self.criterion.differentiable_loss(model.model, model.guide, X, y)\n",
    "#         #     loss = loss.sum()\n",
    "#             loss.backward()\n",
    "#             print(loss)\n",
    "#             optimizer.step()\n",
    "#             if j % 500 == 0:\n",
    "#                 print('[epoch:{}], loss:{:.2f}'.format(j, loss))\n",
    "#         print('[epoch:{}], loss:{:.2f}'.format(j, loss))\n",
    "        \n",
    "\n",
    "    \n",
    "    \n",
    "# stdev_train\n",
    "bayesian_model_weights = BayesianLinearModelWeights(X_train.shape[1], y_train.shape[0], bias=True, non_linear=False)\n",
    "bayesian_model_weights.fit(X_train, y_train, stdev_train, noise=0.5, weights=torch.ones(X_train.shape[0]), steps=5000)\n",
    "\n",
    "display(bayesian_model.get_params())"
   ]
  },
  {
   "cell_type": "code",
   "execution_count": 47,
   "metadata": {},
   "outputs": [],
   "source": [
    "optimizer = torch.optim.Adam(bayesian_model.guide.parameters(), lr=0.01, betas=(0.90, 0.999))"
   ]
  },
  {
   "cell_type": "code",
   "execution_count": 40,
   "metadata": {},
   "outputs": [],
   "source": [
    "optimizer = torch.optim.Adam([torch.tensor([1,2,3]), torch.tensor([1,2,2,2])], lr=0.01, betas=(0.90, 0.999))"
   ]
  },
  {
   "cell_type": "code",
   "execution_count": 31,
   "metadata": {},
   "outputs": [],
   "source": [
    "optimizer = torch.optim.Adam(mse_model_errors_weights.model.parameters(), lr=0.01, betas=(0.90, 0.999))\n",
    "criterion = Trace_ELBO()"
   ]
  },
  {
   "cell_type": "markdown",
   "metadata": {},
   "source": [
    "## Predict on unbalanced data and compare"
   ]
  },
  {
   "cell_type": "code",
   "execution_count": null,
   "metadata": {},
   "outputs": [],
   "source": [
    "# data to tensor\n",
    "X_test = torch.tensor(X_test)\n",
    "y_test = torch.tensor(y_test)\n",
    "stdev_test = stdev_test"
   ]
  },
  {
   "cell_type": "code",
   "execution_count": null,
   "metadata": {},
   "outputs": [],
   "source": [
    "# predict\n",
    "yhat_classical = mse_model.predict(X_test)\n",
    "yhat_errors = mse_model_errors_weights.predict(X_test)\n",
    "yhat_bayes = bayesian_model_weights.predict(X_test)\n",
    "\n",
    "# calculate rmsd and r2\n",
    "rmsd_classical = mean_squared_error(y_true=y_test, y_pred=yhat_classical, sample_weight=None, squared=False)\n",
    "r2_classical = r2_score(y_true=y_test, y_pred=yhat_classical, sample_weight=None)\n",
    "\n",
    "rmsd_errors = mean_squared_error(y_true=y_test, y_pred=yhat_errors, sample_weight=None, squared=False)\n",
    "r2_errors = r2_score(y_true=y_test, y_pred=yhat_errors, sample_weight=None)\n",
    "\n",
    "rmsd_bayes = mean_squared_error(y_true=y_test, y_pred=yhat_bayes, sample_weight=None, squared=False)\n",
    "r2_bayes = r2_score(y_true=y_test, y_pred=yhat_bayes, sample_weight=None)\n",
    "\n",
    "# plot the predictions\n",
    "fig, ax = plt.subplots(nrows=1, ncols=3, figsize=(12, 4), sharey=False)\n",
    "\n",
    "ax[0].errorbar(y_test.numpy(), yhat_classical, yerr=stdev_test, fmt=\"o\")\n",
    "ax[0].plot([0, 1], [0, 1], transform=ax[0].transAxes)\n",
    "ax[0].text(x=0.05, y=0.90, s='RMSD={:.2f}'.format(rmsd_classical), transform=ax[0].transAxes)\n",
    "ax[0].text(x=0.05, y=0.85, s='R2={:.2f}'.format(r2_classical), transform=ax[0].transAxes)\n",
    "ax[0].set(xlabel=\"y\",\n",
    "          ylabel=\"y_hat\",\n",
    "          title=\"Classical model, MSE, balanced data\",\n",
    "          xlim=(-20, 120),\n",
    "          ylim=(-20, 120))\n",
    "\n",
    "ax[1].errorbar(y_test.numpy(), yhat_errors, yerr=stdev_test, fmt=\"o\")\n",
    "ax[1].plot([0, 1], [0, 1], transform=ax[1].transAxes)\n",
    "ax[1].text(x=0.05, y=0.90, s='RMSD={:.2f}'.format(rmsd_errors), transform=ax[1].transAxes)\n",
    "ax[1].text(x=0.05, y=0.85, s='R2={:.2f}'.format(r2_errors), transform=ax[1].transAxes)\n",
    "ax[1].set(xlabel=\"y\",\n",
    "          ylabel=\"y_hat\",\n",
    "          title=\"Classical model, modified MSE, balanced data\",\n",
    "          xlim=(-20, 120),\n",
    "          ylim=(-20, 120))\n",
    "\n",
    "ax[2].errorbar(y_test.numpy(), yhat_bayes, yerr=stdev_test, fmt=\"o\")\n",
    "ax[2].plot([0, 1], [0, 1], transform=ax[2].transAxes)\n",
    "ax[2].text(x=0.05, y=0.90, s='RMSD={:.2f}'.format(rmsd_bayes), transform=ax[2].transAxes)\n",
    "ax[2].text(x=0.05, y=0.85, s='R2={:.2f}'.format(r2_bayes), transform=ax[2].transAxes)\n",
    "ax[2].set(xlabel=\"y\",\n",
    "          ylabel=\"y_hat\",\n",
    "          title=\"Bayesian model, balanced data\",\n",
    "          xlim=(-20, 120),\n",
    "          ylim=(-20, 120))\n",
    "\n",
    "plt.tight_layout()\n",
    "plt.show()"
   ]
  },
  {
   "cell_type": "markdown",
   "metadata": {},
   "source": [
    "Observations: "
   ]
  },
  {
   "cell_type": "code",
   "execution_count": null,
   "metadata": {},
   "outputs": [],
   "source": []
  },
  {
   "cell_type": "code",
   "execution_count": null,
   "metadata": {},
   "outputs": [],
   "source": []
  },
  {
   "cell_type": "code",
   "execution_count": null,
   "metadata": {},
   "outputs": [],
   "source": []
  },
  {
   "cell_type": "code",
   "execution_count": null,
   "metadata": {
    "scrolled": true
   },
   "outputs": [],
   "source": [
    "# Clear all the parameter store\n",
    "pyro.clear_param_store()\n",
    "\n",
    "\n",
    "optimizer = torch.optim.Adam(m_odel.parameters(), lr=0.01, betas=(0.90, 0.999))\n",
    "criterion = Trace_ELBO()\n",
    "# criterion = simple_elbo\n",
    "\n",
    "for epoch in range(10):\n",
    "    optimizer.zero_grad()\n",
    "#     x = x.cuda()\n",
    "    loss = criterion.differentiable_loss(model.model, model.guide, X_train, y_train)\n",
    "#     loss = loss.sum()\n",
    "    loss.backward()\n",
    "    print(loss)\n",
    "    optimizer.step()"
   ]
  },
  {
   "cell_type": "code",
   "execution_count": null,
   "metadata": {},
   "outputs": [],
   "source": [
    "for p in guide.parameters():\n",
    "    print(p)"
   ]
  },
  {
   "cell_type": "markdown",
   "metadata": {},
   "source": [
    "**Setup a custom loss function to allow for adjusting importance of individual measurements**"
   ]
  },
  {
   "cell_type": "code",
   "execution_count": null,
   "metadata": {},
   "outputs": [],
   "source": [
    "from torch.nn.parameter import Parameter, UninitializedParameter\n",
    "from torch.nn.modules.module import Module"
   ]
  },
  {
   "cell_type": "code",
   "execution_count": null,
   "metadata": {},
   "outputs": [],
   "source": [
    "# http://docs.pyro.ai/en/stable/_modules/pyro/infer/trace_elbo.html#Trace_ELBO.loss\n",
    "\n",
    "from pyro.infer import Trace_ELBO\n",
    "from pyro.infer.predictive import Predictive\n",
    "\n",
    "predictions = Predictive(model, samples_4)(rng_key_,\n",
    "                                                marriage=dset.MarriageScaled.values,\n",
    "                                                age=dset.AgeScaled.values,\n",
    "                                                divorce_sd=dset.DivorceScaledSD.values)['obs']"
   ]
  },
  {
   "cell_type": "code",
   "execution_count": null,
   "metadata": {},
   "outputs": [],
   "source": [
    "# https://pyro.ai/examples/custom_objectives.html\n",
    "import pyro.poutine as poutine\n",
    "\n",
    "# note that simple_elbo takes a model, a guide, and their respective arguments as inputs\n",
    "def simple_elbo(model, guide, *args, **kwargs):\n",
    "    # run the guide and trace its execution\n",
    "    guide_trace = poutine.trace(guide).get_trace(*args, **kwargs)\n",
    "    \n",
    "    # run the model and replay it against the samples from the guide\n",
    "    model_trace = poutine.trace(\n",
    "        poutine.replay(model, trace=guide_trace)).get_trace(*args, **kwargs)\n",
    "    \n",
    "    # construct the elbo loss function\n",
    "    return -1*(model_trace.log_prob_sum() - guide_trace.log_prob_sum())\n"
   ]
  },
  {
   "cell_type": "code",
   "execution_count": null,
   "metadata": {},
   "outputs": [],
   "source": []
  },
  {
   "cell_type": "code",
   "execution_count": null,
   "metadata": {},
   "outputs": [],
   "source": [
    "# Clear all the parameter store\n",
    "pyro.clear_param_store()\n",
    "\n",
    "\n",
    "optimizer = torch.optim.Adam(model.parameters(), lr=0.01, betas=(0.90, 0.999))\n",
    "criterion = Trace_ELBO()\n",
    "# criterion = simple_elbo\n",
    "\n",
    "for epoch in range(10):\n",
    "    optimizer.zero_grad()\n",
    "#     x = x.cuda()\n",
    "    loss = criterion.differentiable_loss(model.model, model.guide, X_train, y_train)\n",
    "#     loss = loss.sum()\n",
    "    loss.backward()\n",
    "    print(loss)\n",
    "    optimizer.step()\n"
   ]
  },
  {
   "cell_type": "code",
   "execution_count": null,
   "metadata": {},
   "outputs": [],
   "source": [
    "pyro.get_all_param_names()"
   ]
  },
  {
   "cell_type": "code",
   "execution_count": null,
   "metadata": {},
   "outputs": [],
   "source": [
    "for p in linear_reg_model_errors.parameters():\n",
    "    p\n",
    "type(p)"
   ]
  },
  {
   "cell_type": "code",
   "execution_count": null,
   "metadata": {},
   "outputs": [],
   "source": [
    "for p in guide.parameters():\n",
    "    print(p)"
   ]
  },
  {
   "cell_type": "code",
   "execution_count": null,
   "metadata": {},
   "outputs": [],
   "source": [
    "optimizer = torch.optim.Adam(vae.parameters(), lr=1e-3)\n",
    "elbo_loss_fn = pyro.infer.Trace_ELBO.differentiable_loss\n",
    "for epoch in range(1000):\n",
    "    epoch_loss = 0.\n",
    "    for x, _ in train_dl:\n",
    "        x = x.cuda()\n",
    "        loss = elbo_loss_fn(model=vae.model, guide=vae.guide)\n",
    "        loss.backward()\n",
    "        optimizer.step()\n",
    "        optimizer.zero_grad()\n"
   ]
  }
 ],
 "metadata": {
  "kernelspec": {
   "display_name": "Python 3",
   "language": "python",
   "name": "python3"
  },
  "language_info": {
   "codemirror_mode": {
    "name": "ipython",
    "version": 3
   },
   "file_extension": ".py",
   "mimetype": "text/x-python",
   "name": "python",
   "nbconvert_exporter": "python",
   "pygments_lexer": "ipython3",
   "version": "3.7.9"
  }
 },
 "nbformat": 4,
 "nbformat_minor": 4
}
