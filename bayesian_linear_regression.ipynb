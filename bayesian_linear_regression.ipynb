{
 "cells": [
  {
   "cell_type": "markdown",
   "metadata": {},
   "source": [
    "# Bayesian Linear Regression\n",
    "\n",
    "In this notebook was created by Martin Engqvist in 2021 with the goal to implement and test ideas for Bayesian linear regression models. Inspiration for the modified least squares was drawn from page 66 of the book \"A Bayesian Tutorial\" by By D. S. Sivia and J. Skilling (ISBN 978-0-19-856831-5). The use of basis functions (fixed non-linear functions of the input variables) was inspired by formula 3.2 from page 138 of the book \"Pattern recognition\" by C. M. Bishop (ISBN 978-1-4939-3843-8). Additional help with implementing the model in Pyro was drawn from http://pyro.ai/examples/bayesian_regression.html."
   ]
  },
  {
   "cell_type": "markdown",
   "metadata": {},
   "source": [
    "This program is free software: you can redistribute it and/or modify\n",
    "it under the terms of the GNU General Public License as published by\n",
    "the Free Software Foundation, either version 3 of the License, or\n",
    "(at your option) any later version.\n",
    "This program is distributed in the hope that it will be useful,\n",
    "but WITHOUT ANY WARRANTY; without even the implied warranty of\n",
    "MERCHANTABILITY or FITNESS FOR A PARTICULAR PURPOSE.  See the\n",
    "GNU General Public License for more details.\n",
    "You should have received a copy of the GNU General Public License\n",
    "along with this program.  If not, see <http://www.gnu.org/licenses/>."
   ]
  },
  {
   "cell_type": "code",
   "execution_count": 14,
   "metadata": {},
   "outputs": [
    {
     "data": {
      "text/plain": [
       "'pyro version: 1.4.0'"
      ]
     },
     "metadata": {},
     "output_type": "display_data"
    }
   ],
   "source": [
    "import os \n",
    "import numpy as np\n",
    "import pandas as pd\n",
    "import matplotlib.pyplot as plt\n",
    "import seaborn as sns\n",
    "from scipy.stats import beta\n",
    "import math\n",
    "import scipy\n",
    "\n",
    "import random \n",
    "\n",
    "from sklearn.metrics import mean_squared_error, r2_score\n",
    "from sklearn.model_selection import train_test_split\n",
    "\n",
    "import pyro\n",
    "import pyro.infer\n",
    "import pyro.optim\n",
    "import pyro.distributions as dist\n",
    "from pyro.nn import PyroModule\n",
    "from pyro import param\n",
    "from pyro.poutine import trace\n",
    "from pyro import condition\n",
    "from pyro.optim import Adam, ClippedAdam\n",
    "from pyro.infer import SVI, Trace_ELBO, HMC, MCMC, NUTS\n",
    "from pyro.contrib.autoguide import AutoDiagonalNormal, AutoMultivariateNormal, AutoContinuous, AutoGuide\n",
    "\n",
    "import torch\n",
    "\n",
    "from pprint import pprint\n",
    "\n",
    "\n",
    "from tqdm import tqdm\n",
    "\n",
    "from os.path import join, exists, basename\n",
    "\n",
    "SMALL_SIZE = 8\n",
    "MEDIUM_SIZE = 10\n",
    "BIGGER_SIZE = 12\n",
    "\n",
    "plt.rc('font', size=SMALL_SIZE)          # controls default text sizes\n",
    "plt.rc('axes', titlesize=SMALL_SIZE)     # fontsize of the axes title\n",
    "plt.rc('axes', labelsize=MEDIUM_SIZE)    # fontsize of the x and y labels\n",
    "plt.rc('xtick', labelsize=SMALL_SIZE)    # fontsize of the tick labels\n",
    "plt.rc('ytick', labelsize=SMALL_SIZE)    # fontsize of the tick labels\n",
    "plt.rc('legend', fontsize=SMALL_SIZE)    # legend fontsize\n",
    "plt.rc('figure', titlesize=BIGGER_SIZE)  # fontsize of the figure title\n",
    "\n",
    "# for CI testing\n",
    "smoke_test = ('CI' in os.environ)\n",
    "pyro.set_rng_seed(1)\n",
    "\n",
    "assert issubclass(PyroModule[nn.Linear], nn.Linear)\n",
    "assert issubclass(PyroModule[nn.Linear], PyroModule)\n",
    "\n",
    "display('pyro version: {}'.format(pyro.__version__))\n",
    "\n",
    "pyro.set_rng_seed(101)"
   ]
  },
  {
   "cell_type": "markdown",
   "metadata": {},
   "source": [
    "## Linear models"
   ]
  },
  {
   "cell_type": "markdown",
   "metadata": {},
   "source": [
    "### Setup function to generate data"
   ]
  },
  {
   "cell_type": "code",
   "execution_count": 2,
   "metadata": {},
   "outputs": [],
   "source": [
    "def get_x(y):\n",
    "    pieces = 5\n",
    "    \n",
    "    X = []\n",
    "    for idx in range(pieces-1):\n",
    "        X.append(random.uniform(0, y-sum(X)))\n",
    "    X.append(y-sum(X))\n",
    "                  \n",
    "    # randomize the order\n",
    "    random.shuffle(X)\n",
    "                  \n",
    "    # devide by the weights (since I know the \"true\" fuction)\n",
    "    X = np.array(X) / np.array([1, 2, 3, 4, 5])\n",
    "    \n",
    "    return X.tolist()\n",
    "\n",
    "\n",
    "def generate_data(n=20, ymin=10, ymax=100, sigma=5):\n",
    "    X = []\n",
    "    y = []\n",
    "    stdevs = []\n",
    "    \n",
    "    for s in range(n):\n",
    "        # sample y three times (to simulate measurements)\n",
    "        mu = np.random.choice(np.arange(ymin, ymax))\n",
    "        measured_y = pyro.sample('y', dist.Normal(torch.ones(3)*mu, torch.ones(3)*sigma))\n",
    "\n",
    "        # add y and stdev to data\n",
    "        y.append(measured_y.mean().item())\n",
    "        stdevs.append(measured_y.std().item())\n",
    "\n",
    "        # find X to match this y\n",
    "        # y is a linear combination of x\n",
    "        # lm = x1*1 + x2*2 + x3*3 + x4*4 + x5*5 + 2.5 = y\n",
    "        X.append(get_x(mu-2.5))\n",
    "\n",
    "    df = pd.DataFrame({'y':y, 'stdev':stdevs})\n",
    "    df = df.join(pd.DataFrame(X, columns=['x{}'.format(i) for i in range(1, len(X[0])+1)]) )\n",
    "    \n",
    "    return df\n",
    "\n",
    "\n",
    "\n",
    "data_filepath = join('data', 'linear_model_balanced.tsv')\n",
    "if exists(data_filepath):\n",
    "    df = pd.read_csv(data_filepath, sep='\\t', index_col=0)\n",
    "    \n",
    "else:\n",
    "    # A set of data with low error\n",
    "    df_low = generate_data(n=30, ymin=5, ymax=100, sigma=5)\n",
    "\n",
    "    # A set of data with high error\n",
    "    df_high = generate_data(n=10, ymin=5, ymax=100, sigma=30)\n",
    "\n",
    "    # combine\n",
    "    df = df_low.append(df_high)\n",
    "\n",
    "    # randomize \n",
    "    df = df.sample(frac=1).reset_index(drop=True)\n",
    "    \n",
    "    # save it\n",
    "    df.to_csv(data_filepath, sep='\\t')\n",
    "\n",
    "\n",
    "# prepare splits\n",
    "train, test = train_test_split(df, test_size=0.2, random_state=42)\n",
    "\n",
    "X_train = train.drop(['y', 'stdev'], axis=1).to_numpy()\n",
    "y_train = train.y.to_numpy()\n",
    "stdev_train = train.stdev.to_numpy()\n",
    "\n",
    "X_test = test.drop(['y', 'stdev'], axis=1).to_numpy()\n",
    "y_test = test.y.to_numpy()\n",
    "stdev_test = test.stdev.to_numpy()"
   ]
  },
  {
   "cell_type": "code",
   "execution_count": 3,
   "metadata": {},
   "outputs": [
    {
     "data": {
      "image/png": "[encoded data removed]",
      "text/plain": [
       "<Figure size 432x288 with 1 Axes>"
      ]
     },
     "metadata": {
      "needs_background": "light"
     },
     "output_type": "display_data"
    }
   ],
   "source": [
    "plt.hist(y_train)\n",
    "plt.show()"
   ]
  },
  {
   "cell_type": "code",
   "execution_count": 4,
   "metadata": {},
   "outputs": [
    {
     "data": {
      "image/png": "[encoded data removed]",
      "text/plain": [
       "<Figure size 432x288 with 1 Axes>"
      ]
     },
     "metadata": {
      "needs_background": "light"
     },
     "output_type": "display_data"
    }
   ],
   "source": [
    "plt.hist(y_test)\n",
    "plt.show()"
   ]
  },
  {
   "cell_type": "markdown",
   "metadata": {},
   "source": [
    "## Fit a classical linear model"
   ]
  },
  {
   "cell_type": "code",
   "execution_count": 5,
   "metadata": {},
   "outputs": [
    {
     "name": "stdout",
     "output_type": "stream",
     "text": [
      "[iteration 0000] loss: 156297.1843\n",
      "[iteration 0250] loss: 2992.9939\n",
      "[iteration 0500] loss: 2968.4031\n",
      "[iteration 0750] loss: 2962.3929\n",
      "[iteration 1000] loss: 2958.2420\n",
      "[iteration 1250] loss: 2955.7086\n",
      "Learned parameters:\n",
      "weight [[1.11545624 2.27797918 3.40071883 4.03587704 4.03920927]]\n",
      "bias [1.03771337]\n"
     ]
    }
   ],
   "source": [
    "# data to tensor\n",
    "X_train = torch.tensor(X_train)\n",
    "y_train = torch.tensor(y_train)\n",
    "stdev_train = torch.tensor(stdev_train)\n",
    "\n",
    "# Regression model\n",
    "linear_reg_model_classical = PyroModule[torch.nn.Linear](X_train.shape[1], 1).double()\n",
    "\n",
    "# Define loss and optimize\n",
    "loss_fn = torch.nn.MSELoss(reduction='sum')\n",
    "optim = torch.optim.Adam(linear_reg_model_classical.parameters(), lr=0.05)\n",
    "num_iterations = 1500 if not smoke_test else 2\n",
    "\n",
    "def train():\n",
    "    # run the model forward on the data\n",
    "    y_pred = linear_reg_model_classical(X_train).squeeze(-1)\n",
    "    \n",
    "    # calculate the mse loss\n",
    "    loss = loss_fn(y_pred, y_train)\n",
    "    \n",
    "    # initialize gradients to zero\n",
    "    optim.zero_grad()\n",
    "    \n",
    "    # backpropagate\n",
    "    loss.backward()\n",
    "    \n",
    "    # take a gradient step\n",
    "    optim.step()\n",
    "    return loss\n",
    "\n",
    "for j in range(num_iterations):\n",
    "    loss = train()\n",
    "    if j % 250 == 0:\n",
    "        print(\"[iteration %04d] loss: %.4f\" % (j, loss.item()))\n",
    "\n",
    "\n",
    "# Inspect learned parameters\n",
    "print(\"Learned parameters:\")\n",
    "for name, param in linear_reg_model_classical.named_parameters():\n",
    "    print(name, param.data.numpy())"
   ]
  },
  {
   "cell_type": "markdown",
   "metadata": {},
   "source": [
    "## Fit a classical linear model using a loss metric that accounts for measurement error\n",
    "A robust linear model which accounts for the standard deviation in y when fitting. According to page 66 in \"Data Analysis - A Bayesian Tutorial\" (ISBN 978-0-19-856831-5)."
   ]
  },
  {
   "cell_type": "code",
   "execution_count": 6,
   "metadata": {
    "scrolled": true
   },
   "outputs": [
    {
     "name": "stdout",
     "output_type": "stream",
     "text": [
      "[iteration 0000] loss: 21950.4418\n",
      "[iteration 0250] loss: 167.7287\n",
      "[iteration 0500] loss: 152.2777\n",
      "[iteration 0750] loss: 151.4642\n",
      "[iteration 1000] loss: 151.0702\n",
      "[iteration 1250] loss: 150.8467\n",
      "Learned parameters:\n",
      "weight [[1.03616094 2.07932148 3.00291758 3.9981138  5.11731264]]\n",
      "bias [1.45463313]\n"
     ]
    }
   ],
   "source": [
    "# Regression model\n",
    "linear_reg_model_errors = PyroModule[nn.Linear](X_train.shape[1], 1).double()\n",
    "\n",
    "# Define loss and optimize\n",
    "loss_fn = torch.nn.MSELoss(reduction='none')\n",
    "optim = torch.optim.Adam(linear_reg_model_errors.parameters(), lr=0.05)\n",
    "num_iterations = 1500 if not smoke_test else 2\n",
    "\n",
    "def train():\n",
    "    # run the model forward on the data\n",
    "    y_pred = linear_reg_model_errors(X_train).squeeze(-1)\n",
    "    \n",
    "    # calculate the mse loss\n",
    "    loss = loss_fn(y_pred, y_train)\n",
    "    \n",
    "    # for each sample, divide the loss by its measurement error\n",
    "    loss = loss/stdev_train\n",
    "        \n",
    "    # sum\n",
    "    loss = loss.sum()\n",
    "    \n",
    "    # initialize gradients to zero\n",
    "    optim.zero_grad()\n",
    "    \n",
    "    # backpropagate\n",
    "    loss.backward()\n",
    "    \n",
    "    # take a gradient step\n",
    "    optim.step()\n",
    "    return loss\n",
    "\n",
    "for j in range(num_iterations):\n",
    "    loss = train()\n",
    "    if j % 250 == 0:\n",
    "        print(\"[iteration %04d] loss: %.4f\" % (j, loss.item()))\n",
    "\n",
    "\n",
    "# Inspect learned parameters\n",
    "print(\"Learned parameters:\")\n",
    "for name, param in linear_reg_model_errors.named_parameters():\n",
    "    print(name, param.data.numpy())"
   ]
  },
  {
   "cell_type": "markdown",
   "metadata": {},
   "source": [
    "## Fit a hierarchical Bayesian model, which models the measurement error"
   ]
  },
  {
   "cell_type": "markdown",
   "metadata": {},
   "source": [
    "**Setup the model**"
   ]
  },
  {
   "cell_type": "code",
   "execution_count": 97,
   "metadata": {},
   "outputs": [
    {
     "name": "stdout",
     "output_type": "stream",
     "text": [
      "[epoch:0], loss:24216.88\n",
      "[epoch:500], loss:808.73\n",
      "[epoch:1000], loss:156.27\n",
      "[epoch:1500], loss:147.98\n",
      "[epoch:2000], loss:144.43\n",
      "[epoch:2500], loss:145.43\n",
      "[epoch:3000], loss:142.79\n",
      "[epoch:3500], loss:145.55\n",
      "[epoch:4000], loss:145.10\n",
      "[epoch:4500], loss:153.05\n",
      "[epoch:4999], loss:144.68\n"
     ]
    }
   ],
   "source": [
    "class LinearModel(object):\n",
    "    \"\"\"A hierarchical Bayesian linear model which accounts for measurement error in y.\n",
    "    \"\"\"\n",
    "    \n",
    "    def __init__(self, in_features, out_features, bias=True, non_linear=False, noise=0.5):\n",
    "        \n",
    "        self.in_features = in_features\n",
    "        self.out_features = out_features\n",
    "\n",
    "        self.use_bias = bias\n",
    "        self.non_linear = non_linear\n",
    "        self.noise = noise        \n",
    "        \n",
    "        # set the model and the guide\n",
    "        self.model = self.linear_model\n",
    "        self.guide = AutoDiagonalNormal(self.model)\n",
    "        \n",
    "    def linear_model(self, X, y=None, y_errors=None):\n",
    "        '''A bayesian linear model which accounts for errors in y\n",
    "        when estimating the hidden variables.\n",
    "        '''\n",
    "        # initialize the bias\n",
    "        if self.use_bias is True:\n",
    "            self.bias = pyro.sample('bias', dist.Normal(0.0, 10.0)).double()\n",
    "\n",
    "        # initialize the weights for each of the features\n",
    "        with pyro.plate('weight_plate', X.shape[1]):\n",
    "            self.weight = pyro.sample('weight', dist.Normal(0.0, 10.0)).double()\n",
    "            \n",
    "            # initialize exponents of X (for non-linearity)\n",
    "            if self.non_linear is True:\n",
    "                self.exponents = pyro.sample('exponents', dist.Normal(1.0, 1.0)).double()\n",
    "        \n",
    "        # sample the error\n",
    "        self.epsilon = pyro.sample('epsilon', dist.Normal(0.0, self.noise))       \n",
    "\n",
    "        with pyro.plate('observed_data', X.shape[0]):\n",
    "      \n",
    "            # sample distributions to make predictions for y\n",
    "            if self.use_bias is True and self.non_linear is False:\n",
    "                logits = self.bias + X.matmul(self.weight) + self.epsilon\n",
    "                \n",
    "            elif self.use_bias is False and self.non_linear is False:\n",
    "                logits = X.matmul(self.weight) + self.epsilon\n",
    "                \n",
    "            elif self.use_bias is True and self.non_linear is True:\n",
    "                logits = self.bias + X.pow(self.exponents).matmul(self.weight) + self.epsilon\n",
    "                \n",
    "            elif self.use_bias is False and self.non_linear is True:\n",
    "                logits = X.pow(self.exponents).matmul(self.weight) + self.epsilon\n",
    "                \n",
    "            else:\n",
    "                raise ValueError\n",
    "\n",
    "            # compare with the observed data\n",
    "            if y_errors is None:\n",
    "                pyro.sample('obs', dist.Normal(logits, torch.tensor(np.ones(X.shape[0])/10000)), obs=y)\n",
    "            else:\n",
    "                pyro.sample('obs', dist.Normal(logits, y_errors), obs=y)\n",
    "\n",
    "    def fit(self, X, y, y_errors=None, noise=0.5, weights=None, lr=0.01, steps=2000):\n",
    "        \"\"\"Fit model using stochastic variational inference (SVI)\n",
    "        \"\"\"\n",
    "        # Clear all the parameter store\n",
    "        pyro.clear_param_store()\n",
    "\n",
    "        self.optimizer = ClippedAdam({\"lr\": lr})\n",
    "        svi = SVI(model=self.model, guide=self.guide, optim=self.optimizer, loss=Trace_ELBO())\n",
    "\n",
    "        param_vals = []\n",
    "        for i in range(steps):\n",
    "            loss = svi.step(X, y, y_errors)\n",
    "            if i % 500 == 0:\n",
    "                print('[epoch:{}], loss:{:.2f}'.format(i, loss))\n",
    "        print('[epoch:{}], loss:{:.2f}'.format(i, loss))\n",
    "        \n",
    "    def predict(self, X, return_std=False):\n",
    "        \"\"\"Predict on new data.\n",
    "        \"\"\"\n",
    "        self.guide.requires_grad_(False)\n",
    "        \n",
    "        # define sites to sample\n",
    "        predictive = pyro.infer.Predictive(self.model, guide=self.guide, num_samples=500,\n",
    "                                return_sites=(\"weight\", \"bias\", \"epsilon\", \"obs\"))\n",
    "        \n",
    "        # make the predictions\n",
    "        self.samples = predictive(X, y=None, y_errors=None)\n",
    "        \n",
    "        # get teh average and return\n",
    "        y_hat = self.samples['obs'].mean(axis=0).numpy()\n",
    "        std = self.samples['obs'].mean(axis=0).numpy()\n",
    "        \n",
    "        if return_std is True:\n",
    "            return y_hat, std\n",
    "        else:\n",
    "            return y_hat\n",
    "        \n",
    "    def get_samples(self):\n",
    "        \"\"\"Return all the sampled sites\n",
    "        \"\"\"\n",
    "        return self.samples       \n",
    "        \n",
    "    def parameters(self, quantiles=False):\n",
    "        \"\"\"Get all the model parameters\n",
    "        \"\"\"\n",
    "        self.guide.requires_grad_(False)\n",
    "\n",
    "        if quantiles is False:\n",
    "            params = {}\n",
    "            for name, value in pyro.get_param_store().items():\n",
    "                params[name] = pyro.param(name)\n",
    "        else:\n",
    "            pass\n",
    "\n",
    "        return params\n",
    "    \n",
    "#         return self.guide.quantiles([0.25, 0.5, 0.75])\n",
    "    \n",
    "    \n",
    "# stdev_train\n",
    "bayesian_model = LinearModel(X_train.shape[1], y_train.shape[0], bias=False, non_linear=True)\n",
    "bayesian_model.fit(X_train, y_train, stdev_train, steps=5000)"
   ]
  },
  {
   "cell_type": "markdown",
   "metadata": {},
   "source": [
    "## Predict on test set and compare"
   ]
  },
  {
   "cell_type": "code",
   "execution_count": 99,
   "metadata": {},
   "outputs": [
    {
     "name": "stderr",
     "output_type": "stream",
     "text": [
      "/home/martin/miniconda3/envs/pyro/lib/python3.7/site-packages/ipykernel_launcher.py:2: UserWarning: To copy construct from a tensor, it is recommended to use sourceTensor.clone().detach() or sourceTensor.clone().detach().requires_grad_(True), rather than torch.tensor(sourceTensor).\n",
      "  \n",
      "/home/martin/miniconda3/envs/pyro/lib/python3.7/site-packages/ipykernel_launcher.py:3: UserWarning: To copy construct from a tensor, it is recommended to use sourceTensor.clone().detach() or sourceTensor.clone().detach().requires_grad_(True), rather than torch.tensor(sourceTensor).\n",
      "  This is separate from the ipykernel package so we can avoid doing imports until\n"
     ]
    },
    {
     "data": {
      "image/png": "[encoded data removed]",
      "text/plain": [
       "<Figure size 864x288 with 3 Axes>"
      ]
     },
     "metadata": {
      "needs_background": "light"
     },
     "output_type": "display_data"
    }
   ],
   "source": [
    "# data to tensor\n",
    "X_test = torch.tensor(X_test)\n",
    "y_test = torch.tensor(y_test)\n",
    "stdev_test = stdev_test\n",
    "\n",
    "# predict\n",
    "yhat_classical = linear_reg_model_classical(X_test).detach().cpu().numpy().ravel()\n",
    "yhat_errors = linear_reg_model_errors(X_test).detach().cpu().numpy().ravel()\n",
    "yhat_bayes = bayesian_model.predict(X_test)\n",
    "\n",
    "# calculate rmsd and r2\n",
    "rmsd_classical = mean_squared_error(y_true=y_test, y_pred=yhat_classical, sample_weight=None, squared=False)\n",
    "r2_classical = r2_score(y_true=y_test, y_pred=yhat_classical, sample_weight=None)\n",
    "\n",
    "rmsd_errors = mean_squared_error(y_true=y_test, y_pred=yhat_errors, sample_weight=None, squared=False)\n",
    "r2_errors = r2_score(y_true=y_test, y_pred=yhat_errors, sample_weight=None)\n",
    "\n",
    "rmsd_bayes = mean_squared_error(y_true=y_test, y_pred=yhat_bayes, sample_weight=None, squared=False)\n",
    "r2_bayes = r2_score(y_true=y_test, y_pred=yhat_bayes, sample_weight=None)\n",
    "\n",
    "# plot the predictions\n",
    "fig, ax = plt.subplots(nrows=1, ncols=3, figsize=(12, 4), sharey=False)\n",
    "\n",
    "ax[0].errorbar(y_test.numpy(), yhat_classical, yerr=stdev_test, fmt=\"o\")\n",
    "ax[0].plot([0, 1], [0, 1], transform=ax[0].transAxes)\n",
    "ax[0].text(x=0.05, y=0.90, s='RMSD={:.2f}'.format(rmsd_classical), transform=ax[0].transAxes)\n",
    "ax[0].text(x=0.05, y=0.85, s='R2={:.2f}'.format(r2_classical), transform=ax[0].transAxes)\n",
    "ax[0].set(xlabel=\"y\",\n",
    "          ylabel=\"y_hat\",\n",
    "          title=\"Classical model, MSE, balanced data\",\n",
    "          xlim=(-20, 120),\n",
    "          ylim=(-20, 120))\n",
    "\n",
    "ax[1].errorbar(y_test.numpy(), yhat_errors, yerr=stdev_test, fmt=\"o\")\n",
    "ax[1].plot([0, 1], [0, 1], transform=ax[1].transAxes)\n",
    "ax[1].text(x=0.05, y=0.90, s='RMSD={:.2f}'.format(rmsd_errors), transform=ax[1].transAxes)\n",
    "ax[1].text(x=0.05, y=0.85, s='R2={:.2f}'.format(r2_errors), transform=ax[1].transAxes)\n",
    "ax[1].set(xlabel=\"y\",\n",
    "          ylabel=\"y_hat\",\n",
    "          title=\"Classical model, modified MSE, balanced data\",\n",
    "          xlim=(-20, 120),\n",
    "          ylim=(-20, 120))\n",
    "\n",
    "ax[2].errorbar(y_test.numpy(), yhat_bayes, yerr=stdev_test, fmt=\"o\")\n",
    "ax[2].plot([0, 1], [0, 1], transform=ax[2].transAxes)\n",
    "ax[2].text(x=0.05, y=0.90, s='RMSD={:.2f}'.format(rmsd_bayes), transform=ax[2].transAxes)\n",
    "ax[2].text(x=0.05, y=0.85, s='R2={:.2f}'.format(r2_bayes), transform=ax[2].transAxes)\n",
    "ax[2].set(xlabel=\"y\",\n",
    "          ylabel=\"y_hat\",\n",
    "          title=\"Bayesian model, balanced data\",\n",
    "          xlim=(-20, 120),\n",
    "          ylim=(-20, 120))\n",
    "\n",
    "plt.tight_layout()\n",
    "plt.show()"
   ]
  },
  {
   "cell_type": "markdown",
   "metadata": {},
   "source": [
    "Observations: The classical linear models with MSE performs the worst, fixing MSE to take measurement error into account alrady improves the model very significantly, but a full Bayesian treatment of the problem gives the best result. Pretty cool!"
   ]
  },
  {
   "cell_type": "markdown",
   "metadata": {},
   "source": [
    "# Incorporating weighting of samples\n",
    "Oftentimes the datasets are skewed and many more samples exist from one part of the distribution than from other parts. Here I want to modify the loss functions so that I can pass a weight parameter (between 0.0 and 1.0) such that over-represented samples can be down-weighted to get a better overall fit of the model."
   ]
  },
  {
   "cell_type": "markdown",
   "metadata": {},
   "source": [
    "## Still TODO"
   ]
  },
  {
   "cell_type": "code",
   "execution_count": null,
   "metadata": {
    "scrolled": true
   },
   "outputs": [],
   "source": [
    "model.parameters()"
   ]
  },
  {
   "cell_type": "code",
   "execution_count": null,
   "metadata": {},
   "outputs": [],
   "source": [
    "for p in guide.parameters():\n",
    "    print(p)"
   ]
  },
  {
   "cell_type": "markdown",
   "metadata": {},
   "source": [
    "**Setup a custom loss function to allow for adjusting importance of individual measurements**"
   ]
  },
  {
   "cell_type": "code",
   "execution_count": null,
   "metadata": {},
   "outputs": [],
   "source": [
    "from torch.nn.parameter import Parameter, UninitializedParameter\n",
    "from torch.nn.modules.module import Module"
   ]
  },
  {
   "cell_type": "code",
   "execution_count": null,
   "metadata": {},
   "outputs": [],
   "source": [
    "# http://docs.pyro.ai/en/stable/_modules/pyro/infer/trace_elbo.html#Trace_ELBO.loss\n",
    "\n",
    "from pyro.infer import Trace_ELBO\n",
    "from pyro.infer.predictive import Predictive\n",
    "\n",
    "predictions = Predictive(model, samples_4)(rng_key_,\n",
    "                                                marriage=dset.MarriageScaled.values,\n",
    "                                                age=dset.AgeScaled.values,\n",
    "                                                divorce_sd=dset.DivorceScaledSD.values)['obs']"
   ]
  },
  {
   "cell_type": "code",
   "execution_count": null,
   "metadata": {},
   "outputs": [],
   "source": [
    "# https://pyro.ai/examples/custom_objectives.html\n",
    "import pyro.poutine as poutine\n",
    "\n",
    "# note that simple_elbo takes a model, a guide, and their respective arguments as inputs\n",
    "def simple_elbo(model, guide, *args, **kwargs):\n",
    "    # run the guide and trace its execution\n",
    "    guide_trace = poutine.trace(guide).get_trace(*args, **kwargs)\n",
    "    \n",
    "    # run the model and replay it against the samples from the guide\n",
    "    model_trace = poutine.trace(\n",
    "        poutine.replay(model, trace=guide_trace)).get_trace(*args, **kwargs)\n",
    "    \n",
    "    # construct the elbo loss function\n",
    "    return -1*(model_trace.log_prob_sum() - guide_trace.log_prob_sum())\n"
   ]
  },
  {
   "cell_type": "code",
   "execution_count": null,
   "metadata": {},
   "outputs": [],
   "source": [
    "# Clear all the parameter store\n",
    "pyro.clear_param_store()\n",
    "\n",
    "optimizer = ClippedAdam({\"lr\": 0.1})\n",
    "svi = SVI(model=linear_model, guide=guide, optim=optimizer, loss=Trace_ELBO())\n",
    "\n",
    "param_vals = []\n",
    "optimization_steps = 50\n",
    "for i in range(optimization_steps):\n",
    "\n",
    "    loss = svi.step(X_train, y_train)\n",
    "\n",
    "#     # store values for inspection later\n",
    "#     param_vals.append({k: param(k).item() for k in ['alpha', 'beta']})\n",
    "#     param_vals[-1]['loss'] = loss"
   ]
  },
  {
   "cell_type": "code",
   "execution_count": null,
   "metadata": {},
   "outputs": [],
   "source": []
  },
  {
   "cell_type": "code",
   "execution_count": null,
   "metadata": {},
   "outputs": [],
   "source": [
    "# Clear all the parameter store\n",
    "pyro.clear_param_store()\n",
    "\n",
    "svi = SVI(model=linear_model,\n",
    "             guide=guide,\n",
    "             optim=Adam({\"lr\": 0.001}),\n",
    "             loss=Trace_ELBO())\n",
    "\n",
    "for epoch in range(10):\n",
    "    svi.step(X_train, y_train)"
   ]
  },
  {
   "cell_type": "code",
   "execution_count": null,
   "metadata": {},
   "outputs": [],
   "source": [
    "# Clear all the parameter store\n",
    "pyro.clear_param_store()\n",
    "\n",
    "\n",
    "optimizer = torch.optim.Adam(model.parameters(), lr=0.01, betas=(0.90, 0.999))\n",
    "criterion = Trace_ELBO()\n",
    "# criterion = simple_elbo\n",
    "\n",
    "for epoch in range(10):\n",
    "    optimizer.zero_grad()\n",
    "#     x = x.cuda()\n",
    "    loss = criterion.differentiable_loss(model.model, model.guide, X_train, y_train)\n",
    "#     loss = loss.sum()\n",
    "    loss.backward()\n",
    "    print(loss)\n",
    "    optimizer.step()\n"
   ]
  },
  {
   "cell_type": "code",
   "execution_count": null,
   "metadata": {},
   "outputs": [],
   "source": [
    "pyro.get_all_param_names()"
   ]
  },
  {
   "cell_type": "code",
   "execution_count": null,
   "metadata": {},
   "outputs": [],
   "source": [
    "for p in linear_reg_model_errors.parameters():\n",
    "    p\n",
    "type(p)"
   ]
  },
  {
   "cell_type": "code",
   "execution_count": null,
   "metadata": {},
   "outputs": [],
   "source": [
    "for p in guide.parameters():\n",
    "    print(p)"
   ]
  },
  {
   "cell_type": "code",
   "execution_count": null,
   "metadata": {},
   "outputs": [],
   "source": [
    "optimizer = torch.optim.Adam(vae.parameters(), lr=1e-3)\n",
    "elbo_loss_fn = pyro.infer.Trace_ELBO.differentiable_loss\n",
    "for epoch in range(1000):\n",
    "    epoch_loss = 0.\n",
    "    for x, _ in train_dl:\n",
    "        x = x.cuda()\n",
    "        loss = elbo_loss_fn(model=vae.model, guide=vae.guide)\n",
    "        loss.backward()\n",
    "        optimizer.step()\n",
    "        optimizer.zero_grad()\n"
   ]
  }
 ],
 "metadata": {
  "kernelspec": {
   "display_name": "Python 3",
   "language": "python",
   "name": "python3"
  },
  "language_info": {
   "codemirror_mode": {
    "name": "ipython",
    "version": 3
   },
   "file_extension": ".py",
   "mimetype": "text/x-python",
   "name": "python",
   "nbconvert_exporter": "python",
   "pygments_lexer": "ipython3",
   "version": "3.7.9"
  }
 },
 "nbformat": 4,
 "nbformat_minor": 4
}
