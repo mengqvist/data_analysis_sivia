{
 "cells": [
  {
   "cell_type": "markdown",
   "metadata": {},
   "source": [
    "# Bayesian Linear Regression\n",
    "\n",
    "In this notebook was created by Martin Engqvist in 2021 with the goal to implement and test ideas for Bayesian linear regression models. Inspiration for the modified least squares was drawn from page 66 of the book \"A Bayesian Tutorial\" by By D. S. Sivia and J. Skilling (ISBN 978-0-19-856831-5). The use of basis functions (fixed non-linear functions of the input variables) was inspired by formula 3.2 from page 138 of the book \"Pattern recognition\" by C. M. Bishop (ISBN 978-1-4939-3843-8). Additional help with implementing the model in Pyro was drawn from http://pyro.ai/examples/bayesian_regression.html."
   ]
  },
  {
   "cell_type": "markdown",
   "metadata": {},
   "source": [
    "This program is free software: you can redistribute it and/or modify\n",
    "it under the terms of the GNU General Public License as published by\n",
    "the Free Software Foundation, either version 3 of the License, or\n",
    "(at your option) any later version.\n",
    "This program is distributed in the hope that it will be useful,\n",
    "but WITHOUT ANY WARRANTY; without even the implied warranty of\n",
    "MERCHANTABILITY or FITNESS FOR A PARTICULAR PURPOSE.  See the\n",
    "GNU General Public License for more details.\n",
    "You should have received a copy of the GNU General Public License\n",
    "along with this program.  If not, see <http://www.gnu.org/licenses/>."
   ]
  },
  {
   "cell_type": "code",
   "execution_count": 1,
   "metadata": {},
   "outputs": [
    {
     "data": {
      "text/plain": [
       "'pyro version: 1.4.0'"
      ]
     },
     "metadata": {},
     "output_type": "display_data"
    }
   ],
   "source": [
    "import os \n",
    "import numpy as np\n",
    "import pandas as pd\n",
    "import matplotlib.pyplot as plt\n",
    "import seaborn as sns\n",
    "from scipy.stats import beta\n",
    "import math\n",
    "import scipy\n",
    "\n",
    "import random \n",
    "\n",
    "from sklearn.metrics import mean_squared_error, r2_score\n",
    "from sklearn.model_selection import train_test_split\n",
    "\n",
    "import pyro\n",
    "import pyro.infer\n",
    "import pyro.optim\n",
    "import pyro.distributions as dist\n",
    "from pyro.nn import PyroModule\n",
    "from pyro import param\n",
    "from pyro.poutine import trace\n",
    "from pyro import condition\n",
    "from pyro.optim import Adam, ClippedAdam\n",
    "from pyro.infer import SVI, Trace_ELBO, HMC, MCMC, NUTS\n",
    "from pyro.contrib.autoguide import AutoDiagonalNormal, AutoMultivariateNormal, AutoContinuous, AutoGuide\n",
    "\n",
    "import torch\n",
    "\n",
    "import resreg\n",
    "\n",
    "from pprint import pprint\n",
    "\n",
    "\n",
    "from tqdm import tqdm\n",
    "\n",
    "from os.path import join, exists, basename\n",
    "\n",
    "SMALL_SIZE = 8\n",
    "MEDIUM_SIZE = 10\n",
    "BIGGER_SIZE = 12\n",
    "\n",
    "plt.rc('font', size=SMALL_SIZE)          # controls default text sizes\n",
    "plt.rc('axes', titlesize=SMALL_SIZE)     # fontsize of the axes title\n",
    "plt.rc('axes', labelsize=MEDIUM_SIZE)    # fontsize of the x and y labels\n",
    "plt.rc('xtick', labelsize=SMALL_SIZE)    # fontsize of the tick labels\n",
    "plt.rc('ytick', labelsize=SMALL_SIZE)    # fontsize of the tick labels\n",
    "plt.rc('legend', fontsize=SMALL_SIZE)    # legend fontsize\n",
    "plt.rc('figure', titlesize=BIGGER_SIZE)  # fontsize of the figure title\n",
    "\n",
    "# for CI testing\n",
    "smoke_test = ('CI' in os.environ)\n",
    "pyro.set_rng_seed(1)\n",
    "\n",
    "assert issubclass(PyroModule[torch.nn.Linear], torch.nn.Linear)\n",
    "assert issubclass(PyroModule[torch.nn.Linear], PyroModule)\n",
    "\n",
    "display('pyro version: {}'.format(pyro.__version__))\n",
    "\n",
    "pyro.set_rng_seed(101)"
   ]
  },
  {
   "cell_type": "markdown",
   "metadata": {},
   "source": [
    "## Linear models"
   ]
  },
  {
   "cell_type": "markdown",
   "metadata": {},
   "source": [
    "### Setup function to generate data"
   ]
  },
  {
   "cell_type": "code",
   "execution_count": 2,
   "metadata": {},
   "outputs": [],
   "source": [
    "def get_x(y, pieces=10):\n",
    "    \n",
    "    X = []\n",
    "    for idx in range(pieces-1):\n",
    "        X.append(random.uniform(0, y-sum(X)))\n",
    "    X.append(y-sum(X))\n",
    "                  \n",
    "    # randomize the order\n",
    "    random.shuffle(X)\n",
    "                  \n",
    "    # devide by the weights (since I know the \"true\" function)\n",
    "    X = np.array(X) / np.arange(1, pieces+1, 1)\n",
    "    \n",
    "    return X.tolist()\n",
    "\n",
    "\n",
    "def generate_data(n=20, ymin=10, ymax=100, sigma=5):\n",
    "    X = []\n",
    "    y_obs = []\n",
    "    y_true = []\n",
    "    stdevs = []\n",
    "    \n",
    "    for s in range(n):\n",
    "        # sample y three times (to simulate measurements)\n",
    "        mu = np.random.choice(np.arange(ymin, ymax))\n",
    "        y_true.append(mu)\n",
    "        \n",
    "        measured_y = pyro.sample('y', dist.Normal(torch.ones(3)*mu, torch.ones(3)*sigma))\n",
    "\n",
    "        # add y and stdev to data\n",
    "        y_obs.append(measured_y.mean().item())\n",
    "        stdevs.append(measured_y.std().item())\n",
    "\n",
    "        # find X to match this y\n",
    "        # y is a linear combination of x\n",
    "        # lm = x1*1 + x2*2 + x3*3 + x4*4 + x5*5 + 2.5 = y\n",
    "        X.append(get_x(mu-2.5))\n",
    "\n",
    "    df = pd.DataFrame({'y_obs':y_obs, 'y_true':y_true, 'stdev':stdevs})\n",
    "    df = df.join(pd.DataFrame(X, columns=['x{}'.format(i) for i in range(1, len(X[0])+1)]) )\n",
    "    \n",
    "    return df\n",
    "\n",
    "\n",
    "\n",
    "data_filepath = join('data', 'linear_model_balanced.tsv')\n",
    "if exists(data_filepath):\n",
    "    df = pd.read_csv(data_filepath, sep='\\t', index_col=0)\n",
    "    \n",
    "else:\n",
    "    # A set of data with low error\n",
    "    df_low = generate_data(n=10, ymin=5, ymax=100, sigma=5)\n",
    "\n",
    "    # A set of data with high error\n",
    "    df_high = generate_data(n=20, ymin=5, ymax=100, sigma=30)\n",
    "\n",
    "    # combine\n",
    "    df = df_low.append(df_high)\n",
    "\n",
    "    # randomize \n",
    "    df = df.sample(frac=1).reset_index(drop=True)\n",
    "    \n",
    "    # save it\n",
    "    df.to_csv(data_filepath, sep='\\t')\n",
    "\n",
    "\n",
    "# prepare splits\n",
    "train, test = train_test_split(df, test_size=0.2, random_state=42)\n",
    "\n",
    "X_train = train.drop(['y_obs', 'y_true', 'stdev'], axis=1).to_numpy()\n",
    "y_train = train.y_obs.to_numpy()\n",
    "stdev_train = train.stdev.to_numpy()\n",
    "\n",
    "X_test = test.drop(['y_obs', 'y_true', 'stdev'], axis=1).to_numpy()\n",
    "y_test = test.y_true.to_numpy()"
   ]
  },
  {
   "cell_type": "code",
   "execution_count": 3,
   "metadata": {},
   "outputs": [
    {
     "data": {
      "image/png": "[encoded data removed]",
      "text/plain": [
       "<Figure size 648x216 with 2 Axes>"
      ]
     },
     "metadata": {
      "needs_background": "light"
     },
     "output_type": "display_data"
    }
   ],
   "source": [
    "fig, ax = plt.subplots(1, 2, figsize=(9,3))\n",
    "\n",
    "ax[0].hist(y_train)\n",
    "ax[0].set(xlabel=\"y\",\n",
    "          ylabel=\"frequency\",\n",
    "          title=\"Training set\")\n",
    "\n",
    "ax[1].hist(y_test)\n",
    "ax[1].set(xlabel=\"y\",\n",
    "          ylabel=\"frequency\",\n",
    "          title=\"Test set\")\n",
    "\n",
    "plt.show()"
   ]
  },
  {
   "cell_type": "markdown",
   "metadata": {},
   "source": [
    "## Fit a classical linear model"
   ]
  },
  {
   "cell_type": "code",
   "execution_count": 4,
   "metadata": {},
   "outputs": [],
   "source": [
    "# data to tensor\n",
    "X_train = torch.tensor(X_train)\n",
    "y_train = torch.tensor(y_train)\n",
    "stdev_train = torch.tensor(stdev_train)"
   ]
  },
  {
   "cell_type": "code",
   "execution_count": 5,
   "metadata": {},
   "outputs": [
    {
     "name": "stdout",
     "output_type": "stream",
     "text": [
      "[epoch:0], loss:84215.24\n",
      "[epoch:500], loss:2575.28\n",
      "[epoch:1000], loss:2268.89\n",
      "[epoch:1500], loss:2188.42\n",
      "[epoch:2000], loss:2162.15\n",
      "[epoch:2500], loss:2155.76\n",
      "[epoch:3000], loss:2154.79\n",
      "[epoch:3500], loss:2154.71\n",
      "[epoch:4000], loss:2154.71\n",
      "[epoch:4500], loss:2154.71\n",
      "[epoch:4999], loss:2154.71\n"
     ]
    },
    {
     "data": {
      "text/plain": [
       "{'weight': array([[ 1.20002736, -0.08483975,  3.69101341,  2.98642529,  7.77087686,\n",
       "          6.79927751,  0.69962065, 10.38395045, 10.53480347,  5.84697696]]),\n",
       " 'bias': array([-3.46864629])}"
      ]
     },
     "metadata": {},
     "output_type": "display_data"
    }
   ],
   "source": [
    "class LinearModelMSE(object):\n",
    "    \"\"\"A linear model fitted by MSE.\n",
    "    \"\"\"\n",
    "    def __init__(self, in_features, out_features, bias=True):\n",
    "        \n",
    "        self.in_features = in_features\n",
    "        self.out_features = out_features\n",
    "\n",
    "        self.use_bias = bias\n",
    " \n",
    "        # set the model\n",
    "        self.model = PyroModule[torch.nn.Linear](in_features, out_features).double()\n",
    "\n",
    "    def fit(self, X, y, lr=0.05, steps=2000):\n",
    "        \"\"\"Fit model to data\n",
    "        \"\"\"\n",
    "        pyro.clear_param_store()\n",
    "\n",
    "        # set up optimizer and loss function\n",
    "        self.optimizer = torch.optim.Adam(self.model.parameters(), lr=lr)\n",
    "        self.loss_fn = torch.nn.MSELoss(reduction='sum')\n",
    "\n",
    "        for j in range(steps):\n",
    "            # initialize gradients to zero\n",
    "            self.optimizer.zero_grad()\n",
    "            \n",
    "            # run the model forward on the data\n",
    "            y_pred = self.model(X).squeeze(-1)\n",
    "\n",
    "            # calculate the mse loss\n",
    "            loss = self.loss_fn(y_pred, y_train)\n",
    "\n",
    "            # backpropagate\n",
    "            loss.backward()\n",
    "\n",
    "            # take a gradient step\n",
    "            self.optimizer.step()            \n",
    "            \n",
    "            if j % 500 == 0:\n",
    "                print('[epoch:{}], loss:{:.2f}'.format(j, loss.item()))\n",
    "        print('[epoch:{}], loss:{:.2f}'.format(j, loss))\n",
    "        \n",
    "        \n",
    "    def predict(self, X):\n",
    "        \"\"\"Predict on new data\n",
    "        \"\"\"\n",
    "        self.model.requires_grad_(False)\n",
    "        \n",
    "        return self.model(X).detach().cpu().numpy().ravel()\n",
    "\n",
    "    \n",
    "    def get_params(self):\n",
    "        \"\"\"Get all the model parameters\n",
    "        \"\"\"\n",
    "        self.model.requires_grad_(False)\n",
    "\n",
    "        # Inspect learned parameters\n",
    "        params = {}\n",
    "        for name, param in self.model.named_parameters():\n",
    "            params[name] = param.data.numpy()\n",
    "\n",
    "        return params\n",
    "\n",
    "    \n",
    "mse_model = LinearModelMSE(X_train.shape[1], 1, bias=True)\n",
    "mse_model.fit(X_train, y_train, lr=0.05, steps=5000)\n",
    "\n",
    "display(mse_model.get_params())"
   ]
  },
  {
   "cell_type": "markdown",
   "metadata": {},
   "source": [
    "## Fit a classical linear model using a loss metric that accounts for measurement error\n",
    "A robust linear model which accounts for the standard deviation in y when fitting. According to page 66 in \"Data Analysis - A Bayesian Tutorial\" (ISBN 978-0-19-856831-5)."
   ]
  },
  {
   "cell_type": "code",
   "execution_count": 6,
   "metadata": {},
   "outputs": [
    {
     "name": "stdout",
     "output_type": "stream",
     "text": [
      "[epoch:0], loss:15584.51\n",
      "[epoch:500], loss:153.14\n",
      "[epoch:1000], loss:134.69\n",
      "[epoch:1500], loss:127.00\n",
      "[epoch:2000], loss:122.90\n",
      "[epoch:2500], loss:120.26\n",
      "[epoch:3000], loss:118.65\n",
      "[epoch:3500], loss:117.85\n",
      "[epoch:4000], loss:117.56\n",
      "[epoch:4500], loss:117.48\n",
      "[epoch:4999], loss:117.47\n"
     ]
    },
    {
     "data": {
      "text/plain": [
       "{'weight': array([[ 1.12874374, -0.19566346,  3.41832576,  4.09246491,  8.63066477,\n",
       "          6.41155126,  4.22366681,  9.67663681, 10.75748827,  4.58130827]]),\n",
       " 'bias': array([-1.62628166])}"
      ]
     },
     "metadata": {},
     "output_type": "display_data"
    }
   ],
   "source": [
    "class LinearModelErrorsMSE(LinearModelMSE):\n",
    "    \"\"\"\n",
    "    \"\"\"\n",
    "    def __init__(self, in_features, out_features, bias=True):\n",
    "        super().__init__(in_features, out_features)\n",
    "        \n",
    "        self.in_features = in_features\n",
    "        self.out_features = out_features\n",
    "\n",
    "        self.use_bias = bias\n",
    " \n",
    "        # set the model\n",
    "        self.model = PyroModule[torch.nn.Linear](in_features, out_features).double()\n",
    "        \n",
    "    def fit(self, X, y, y_errors, lr=0.05, steps=2000):\n",
    "        \"\"\"Fit model to data\n",
    "        \"\"\"\n",
    "        pyro.clear_param_store()\n",
    "\n",
    "        # set up optimizer and loss function\n",
    "        self.optimizer = torch.optim.Adam(self.model.parameters(), lr=lr)\n",
    "        self.loss_fn = torch.nn.MSELoss(reduction='none')\n",
    "\n",
    "        for j in range(steps):\n",
    "            # initialize gradients to zero\n",
    "            self.optimizer.zero_grad()\n",
    "            \n",
    "            # run the model forward on the data\n",
    "            y_pred = self.model(X).squeeze(-1)\n",
    "\n",
    "            # calculate the mse loss\n",
    "            loss = self.loss_fn(y_pred, y_train)\n",
    "            \n",
    "            # for each sample, divide the loss by its measurement error\n",
    "            loss = loss/y_errors\n",
    "            loss = loss.sum()\n",
    "\n",
    "            # backpropagate\n",
    "            loss.backward()\n",
    "\n",
    "            # take a gradient step\n",
    "            self.optimizer.step()            \n",
    "            \n",
    "            if j % 500 == 0:\n",
    "                print('[epoch:{}], loss:{:.2f}'.format(j, loss.item()))\n",
    "        print('[epoch:{}], loss:{:.2f}'.format(j, loss))\n",
    "        \n",
    "\n",
    "mse_model_errors = LinearModelErrorsMSE(X_train.shape[1], 1, bias=True)\n",
    "mse_model_errors.fit(X_train, y_train, stdev_train, lr=0.05, steps=5000)\n",
    "\n",
    "display(mse_model_errors.get_params())"
   ]
  },
  {
   "cell_type": "markdown",
   "metadata": {},
   "source": [
    "## Fit a hierarchical Bayesian model, which models the measurement error"
   ]
  },
  {
   "cell_type": "markdown",
   "metadata": {},
   "source": [
    "**Setup the model**"
   ]
  },
  {
   "cell_type": "code",
   "execution_count": 7,
   "metadata": {},
   "outputs": [
    {
     "name": "stdout",
     "output_type": "stream",
     "text": [
      "[epoch:0], loss:5391.94\n",
      "[epoch:500], loss:375.30\n",
      "[epoch:1000], loss:127.90\n",
      "[epoch:1500], loss:124.84\n",
      "[epoch:2000], loss:121.64\n",
      "[epoch:2500], loss:120.97\n",
      "[epoch:3000], loss:118.45\n",
      "[epoch:3500], loss:121.54\n",
      "[epoch:4000], loss:123.54\n",
      "[epoch:4500], loss:120.15\n",
      "[epoch:4999], loss:119.55\n"
     ]
    },
    {
     "data": {
      "text/plain": [
       "{'AutoDiagonalNormal.loc': Parameter containing:\n",
       " tensor([ 2.5923,  1.0342, -0.3529,  3.0863,  4.6211,  4.2635,  5.8826,  5.3701,\n",
       "          8.9664,  9.6645,  6.5038,  0.0632]),\n",
       " 'AutoDiagonalNormal.scale': tensor([0.7274, 0.0499, 1.0512, 0.3042, 1.1792, 4.5664, 0.3489, 0.6456, 0.5156,\n",
       "         0.1518, 0.8487, 0.4088])}"
      ]
     },
     "metadata": {},
     "output_type": "display_data"
    }
   ],
   "source": [
    "class BayesianLinearModel(object):\n",
    "    \"\"\"A hierarchical Bayesian linear model which accounts for measurement error in y.\n",
    "    \"\"\"\n",
    "    \n",
    "    def __init__(self, in_features, out_features, bias=True, non_linear=False, noise=0.5):\n",
    "        \n",
    "        self.in_features = in_features\n",
    "        self.out_features = out_features\n",
    "\n",
    "        self.use_bias = bias\n",
    "        self.non_linear = non_linear\n",
    "        self.noise = noise\n",
    "        \n",
    "        # set the model and the guide\n",
    "        self.model = self.linear_model\n",
    "        self.guide = AutoDiagonalNormal(self.model)\n",
    "        \n",
    "    def linear_model(self, X, y=None, y_errors=None):\n",
    "        '''A bayesian linear model which accounts for errors in y\n",
    "        when estimating the hidden variables.\n",
    "        '''\n",
    "        # initialize the bias\n",
    "        if self.use_bias is True:\n",
    "            self.bias = pyro.sample('bias', dist.Normal(0.0, 10.0)).double()\n",
    "\n",
    "        # initialize the weights for each of the features\n",
    "        with pyro.plate('weight_plate', X.shape[1]):\n",
    "            self.weight = pyro.sample('weight', dist.Normal(0.0, 10.0)).double()\n",
    "            \n",
    "            # initialize exponents of X (for non-linearity)\n",
    "            if self.non_linear is True:\n",
    "                self.exponents = pyro.sample('exponents', dist.Normal(1.0, 1.0)).double()\n",
    "        \n",
    "        # sample the error\n",
    "        self.epsilon = pyro.sample('epsilon', dist.Normal(0.0, self.noise))       \n",
    "\n",
    "        with pyro.plate('observed_data', X.shape[0]):\n",
    "      \n",
    "            # sample distributions to make predictions for y\n",
    "            if self.use_bias is True and self.non_linear is False:\n",
    "                logits = self.bias + X.matmul(self.weight) + self.epsilon\n",
    "                \n",
    "            elif self.use_bias is False and self.non_linear is False:\n",
    "                logits = X.matmul(self.weight) + self.epsilon\n",
    "                \n",
    "            elif self.use_bias is True and self.non_linear is True:\n",
    "                logits = self.bias + X.pow(self.exponents).matmul(self.weight) + self.epsilon\n",
    "                \n",
    "            elif self.use_bias is False and self.non_linear is True:\n",
    "                logits = X.pow(self.exponents).matmul(self.weight) + self.epsilon\n",
    "                \n",
    "            else:\n",
    "                raise ValueError\n",
    "\n",
    "            # compare with the observed data\n",
    "            if y_errors is None:\n",
    "                pyro.sample('obs', dist.Normal(logits, torch.tensor(np.ones(X.shape[0])/10000)), obs=y)\n",
    "            else:\n",
    "                pyro.sample('obs', dist.Normal(logits, y_errors), obs=y)\n",
    "\n",
    "    def fit(self, X, y, y_errors=None, noise=0.5, weights=None, lr=0.01, steps=2000):\n",
    "        \"\"\"Fit model using stochastic variational inference (SVI)\n",
    "        \"\"\"\n",
    "        # Clear all the parameter store\n",
    "        pyro.clear_param_store()\n",
    "\n",
    "        self.optimizer = ClippedAdam({\"lr\": lr})\n",
    "        svi = SVI(model=self.model, guide=self.guide, optim=self.optimizer, loss=Trace_ELBO())\n",
    "\n",
    "        for i in range(steps):\n",
    "            loss = svi.step(X, y, y_errors)\n",
    "            if i % 500 == 0:\n",
    "                print('[epoch:{}], loss:{:.2f}'.format(i, loss))\n",
    "        print('[epoch:{}], loss:{:.2f}'.format(i, loss))\n",
    "        \n",
    "    def predict(self, X, return_std=False):\n",
    "        \"\"\"Predict on new data.\n",
    "        \"\"\"\n",
    "        self.guide.requires_grad_(False)\n",
    "        \n",
    "        # define sites to sample\n",
    "        predictive = pyro.infer.Predictive(self.model, guide=self.guide, num_samples=500,\n",
    "                                return_sites=(\"weight\", \"bias\", \"epsilon\", \"obs\"))\n",
    "        \n",
    "        # make the predictions\n",
    "        self.samples = predictive(X, y=None, y_errors=None)\n",
    "        \n",
    "        # get teh average and return\n",
    "        y_hat = self.samples['obs'].mean(axis=0).numpy()\n",
    "        std = self.samples['obs'].mean(axis=0).numpy()\n",
    "        \n",
    "        if return_std is True:\n",
    "            return y_hat, std\n",
    "        else:\n",
    "            return y_hat\n",
    "        \n",
    "    def get_samples(self):\n",
    "        \"\"\"Return all the sampled sites\n",
    "        \"\"\"\n",
    "        return self.samples       \n",
    "        \n",
    "    def get_params(self, quantiles=False):\n",
    "        \"\"\"Get all the model parameters\n",
    "        \"\"\"\n",
    "        self.guide.requires_grad_(False)\n",
    "\n",
    "        if quantiles is False:\n",
    "            params = {}\n",
    "            for name, value in pyro.get_param_store().items():\n",
    "                params[name] = pyro.param(name)\n",
    "        else:\n",
    "            pass\n",
    "\n",
    "        return params\n",
    "    \n",
    "#         return self.guide.quantiles([0.25, 0.5, 0.75])\n",
    "    \n",
    "    \n",
    "# stdev_train\n",
    "bayesian_model = BayesianLinearModel(X_train.shape[1], y_train.shape[0], bias=True, non_linear=False)\n",
    "bayesian_model.fit(X_train, y_train, stdev_train, steps=5000)\n",
    "\n",
    "display(bayesian_model.get_params())"
   ]
  },
  {
   "cell_type": "markdown",
   "metadata": {},
   "source": [
    "## Predict on test set and compare"
   ]
  },
  {
   "cell_type": "code",
   "execution_count": 8,
   "metadata": {},
   "outputs": [],
   "source": [
    "# data to tensor\n",
    "X_test = torch.tensor(X_test)\n",
    "y_test = torch.tensor(y_test)"
   ]
  },
  {
   "cell_type": "code",
   "execution_count": 9,
   "metadata": {},
   "outputs": [
    {
     "data": {
      "image/png": "[encoded data removed]",
      "text/plain": [
       "<Figure size 864x288 with 3 Axes>"
      ]
     },
     "metadata": {
      "needs_background": "light"
     },
     "output_type": "display_data"
    }
   ],
   "source": [
    "# predict\n",
    "yhat_classical = mse_model.predict(X_test)\n",
    "yhat_errors = mse_model_errors.predict(X_test)\n",
    "yhat_bayes = bayesian_model.predict(X_test)\n",
    "\n",
    "# calculate rmsd and r2\n",
    "rmsd_classical = mean_squared_error(y_true=y_test, y_pred=yhat_classical, sample_weight=None, squared=False)\n",
    "r2_classical = r2_score(y_true=y_test, y_pred=yhat_classical, sample_weight=None)\n",
    "\n",
    "rmsd_errors = mean_squared_error(y_true=y_test, y_pred=yhat_errors, sample_weight=None, squared=False)\n",
    "r2_errors = r2_score(y_true=y_test, y_pred=yhat_errors, sample_weight=None)\n",
    "\n",
    "rmsd_bayes = mean_squared_error(y_true=y_test, y_pred=yhat_bayes, sample_weight=None, squared=False)\n",
    "r2_bayes = r2_score(y_true=y_test, y_pred=yhat_bayes, sample_weight=None)\n",
    "\n",
    "# plot the predictions\n",
    "fig, ax = plt.subplots(nrows=1, ncols=3, figsize=(12, 4), sharey=False)\n",
    "\n",
    "ax[0].errorbar(y_test.numpy(), yhat_classical, fmt=\"o\")\n",
    "ax[0].plot([0, 1], [0, 1], transform=ax[0].transAxes)\n",
    "ax[0].text(x=0.05, y=0.90, s='RMSD={:.2f}'.format(rmsd_classical), transform=ax[0].transAxes)\n",
    "ax[0].text(x=0.05, y=0.85, s='R2={:.2f}'.format(r2_classical), transform=ax[0].transAxes)\n",
    "ax[0].set(xlabel=\"y\",\n",
    "          ylabel=\"y_hat\",\n",
    "          title=\"Classical model, MSE, balanced data\",\n",
    "          xlim=(-20, 120),\n",
    "          ylim=(-20, 120))\n",
    "\n",
    "ax[1].errorbar(y_test.numpy(), yhat_errors, fmt=\"o\")\n",
    "ax[1].plot([0, 1], [0, 1], transform=ax[1].transAxes)\n",
    "ax[1].text(x=0.05, y=0.90, s='RMSD={:.2f}'.format(rmsd_errors), transform=ax[1].transAxes)\n",
    "ax[1].text(x=0.05, y=0.85, s='R2={:.2f}'.format(r2_errors), transform=ax[1].transAxes)\n",
    "ax[1].set(xlabel=\"y\",\n",
    "          ylabel=\"y_hat\",\n",
    "          title=\"Classical model, modified MSE, balanced data\",\n",
    "          xlim=(-20, 120),\n",
    "          ylim=(-20, 120))\n",
    "\n",
    "ax[2].errorbar(y_test.numpy(), yhat_bayes, fmt=\"o\")\n",
    "ax[2].plot([0, 1], [0, 1], transform=ax[2].transAxes)\n",
    "ax[2].text(x=0.05, y=0.90, s='RMSD={:.2f}'.format(rmsd_bayes), transform=ax[2].transAxes)\n",
    "ax[2].text(x=0.05, y=0.85, s='R2={:.2f}'.format(r2_bayes), transform=ax[2].transAxes)\n",
    "ax[2].set(xlabel=\"y\",\n",
    "          ylabel=\"y_hat\",\n",
    "          title=\"Bayesian model, balanced data\",\n",
    "          xlim=(-20, 120),\n",
    "          ylim=(-20, 120))\n",
    "\n",
    "plt.tight_layout()\n",
    "plt.show()"
   ]
  },
  {
   "cell_type": "markdown",
   "metadata": {},
   "source": [
    "Observations: The outcome depends on the data. With many samples the models tend to perform similarly, even with the Bayesian model being slightly worse. But with few samples the Bayesian model shines. Pretty cool!"
   ]
  },
  {
   "cell_type": "markdown",
   "metadata": {},
   "source": [
    "# Incorporating weighting of samples\n",
    "Oftentimes the datasets are skewed and many more samples exist from one part of the distribution than from other parts. Here I want to modify the loss functions so that I can pass a weight parameter (between 0.0 and 1.0) such that over-represented samples can be down-weighted to get a better overall fit of the model."
   ]
  },
  {
   "cell_type": "markdown",
   "metadata": {},
   "source": [
    "## Make unbalanced train and test sets"
   ]
  },
  {
   "cell_type": "code",
   "execution_count": 27,
   "metadata": {},
   "outputs": [
    {
     "name": "stdout",
     "output_type": "stream",
     "text": [
      "\n",
      "\n",
      "   bin range train size test size\n",
      "       y < 5          9         2\n",
      "  5 ≤ y < 15          8         2\n",
      " 15 ≤ y < 25         23         2\n",
      " 25 ≤ y < 35         40         2\n",
      " 35 ≤ y < 45         15         2\n",
      " 45 ≤ y < 55         16         2\n",
      "      y ≥ 55         15         2\n",
      "       TOTAL        126        14\n",
      "\n",
      "\n"
     ]
    }
   ],
   "source": [
    "data_filepath = join('data', 'linear_model_un-balanced.tsv')\n",
    "if exists(data_filepath):\n",
    "    df = pd.read_csv(data_filepath, sep='\\t', index_col=0)\n",
    "    \n",
    "else:\n",
    "    # A set of data with low error\n",
    "    df_low = generate_data(n=5, ymin=5, ymax=100, sigma=5)\n",
    "\n",
    "    # A set of data with high error\n",
    "    df_high = generate_data(n=15, ymin=15, ymax=100, sigma=30)\n",
    "    \n",
    "    # Add even more low error data toward the low range\n",
    "    df_low_extra = generate_data(n=20, ymin=25, ymax=35, sigma=5)\n",
    "    \n",
    "    # Add even more high error data toward the low range\n",
    "    df_high_extra = generate_data(n=100, ymin=25, ymax=35, sigma=30)\n",
    "    \n",
    "    # combine\n",
    "    df = df_low.append([df_high, df_low_extra, df_high_extra])\n",
    "\n",
    "    # randomize \n",
    "    df = df.sample(frac=1).reset_index(drop=True)\n",
    "    \n",
    "    # save it\n",
    "    df.to_csv(data_filepath, sep='\\t')\n",
    "\n",
    "# # compute the relevance\n",
    "# relevance = relevance_pdf1 = resreg.pdf_relevance(df.y, bandwidth=1.0)\n",
    "\n",
    "# # select a fraction of the indexes\n",
    "# test_indexes = np.random.choice(df.index, size=int(df.shape[0]*0.1), \n",
    "#                  replace=False, \n",
    "#                  p=relevance/relevance.sum(axis=0, keepdims=1))\n",
    "\n",
    "\n",
    "# split data into bins and get an equal number of samples from each\n",
    "bins = np.arange(5, 65, 10)\n",
    "train_indices, test_indices = resreg.uniform_test_split(df.index, df.y_obs, bins=bins,\n",
    "                                        bin_test_size=0.25, verbose=True,\n",
    "                                        random_state=1234)\n",
    "\n",
    "# make train test splits\n",
    "test = df.iloc[test_indices]\n",
    "train = df.iloc[train_indices]\n",
    "\n",
    "# prepare splits\n",
    "X_train = train.drop(['y_obs', 'y_true', 'stdev'], axis=1).to_numpy()\n",
    "y_train = train.y_obs.to_numpy()\n",
    "stdev_train = train.stdev.to_numpy()\n",
    "\n",
    "X_test = test.drop(['y_obs', 'y_true', 'stdev'], axis=1).to_numpy()\n",
    "y_test = test.y_true.to_numpy()"
   ]
  },
  {
   "cell_type": "code",
   "execution_count": 28,
   "metadata": {},
   "outputs": [
    {
     "data": {
      "image/png": "[encoded data removed]",
      "text/plain": [
       "<Figure size 648x216 with 2 Axes>"
      ]
     },
     "metadata": {
      "needs_background": "light"
     },
     "output_type": "display_data"
    }
   ],
   "source": [
    "fig, ax = plt.subplots(1, 2, figsize=(9,3))\n",
    "\n",
    "ax[0].hist(y_train)\n",
    "ax[0].set(xlabel=\"y\",\n",
    "          ylabel=\"frequency\",\n",
    "          title=\"Training set\")\n",
    "\n",
    "ax[1].hist(y_test)\n",
    "ax[1].set(xlabel=\"y\",\n",
    "          ylabel=\"frequency\",\n",
    "          title=\"Test set\")\n",
    "\n",
    "plt.show()"
   ]
  },
  {
   "cell_type": "markdown",
   "metadata": {},
   "source": [
    "## Assign weights for the samples"
   ]
  },
  {
   "cell_type": "code",
   "execution_count": 29,
   "metadata": {},
   "outputs": [
    {
     "data": {
      "image/png": "[encoded data removed]",
      "text/plain": [
       "<Figure size 432x288 with 1 Axes>"
      ]
     },
     "metadata": {
      "needs_background": "light"
     },
     "output_type": "display_data"
    }
   ],
   "source": [
    "weights = relevance_pdf1 = resreg.pdf_relevance(y_train, bandwidth=5.0)\n",
    "\n",
    "plt.scatter(y_train, weights, label='bandwidth=5.0')\n",
    "plt.xlabel('y_train')\n",
    "plt.ylabel('relevance')\n",
    "plt.show()"
   ]
  },
  {
   "cell_type": "markdown",
   "metadata": {},
   "source": [
    "## Train regular model on skewed data"
   ]
  },
  {
   "cell_type": "code",
   "execution_count": 30,
   "metadata": {},
   "outputs": [],
   "source": [
    "# data to tensor\n",
    "X_train = torch.tensor(X_train)\n",
    "y_train = torch.tensor(y_train)\n",
    "stdev_train = torch.tensor(stdev_train)"
   ]
  },
  {
   "cell_type": "code",
   "execution_count": 31,
   "metadata": {},
   "outputs": [
    {
     "name": "stdout",
     "output_type": "stream",
     "text": [
      "[epoch:0], loss:190471.30\n",
      "[epoch:500], loss:28574.87\n",
      "[epoch:1000], loss:28484.68\n",
      "[epoch:1500], loss:28445.33\n",
      "[epoch:2000], loss:28433.55\n",
      "[epoch:2500], loss:28431.56\n",
      "[epoch:3000], loss:28431.39\n",
      "[epoch:3500], loss:28431.38\n",
      "[epoch:4000], loss:28431.38\n",
      "[epoch:4500], loss:28431.38\n",
      "[epoch:4999], loss:28431.38\n"
     ]
    },
    {
     "data": {
      "text/plain": [
       "{'weight': array([[ 1.48670909,  1.49593114,  2.96436069,  4.59297384,  5.34787917,\n",
       "          6.13982528,  6.45698943,  8.88418095,  7.30059346, 10.53973545]]),\n",
       " 'bias': array([1.5158045])}"
      ]
     },
     "metadata": {},
     "output_type": "display_data"
    }
   ],
   "source": [
    "mse_model = LinearModelMSE(X_train.shape[1], 1, bias=True)\n",
    "mse_model.fit(X_train, y_train, lr=0.05, steps=5000)\n",
    "\n",
    "display(mse_model.get_params())"
   ]
  },
  {
   "cell_type": "markdown",
   "metadata": {},
   "source": [
    "## Modify the linear model to accept sample weights"
   ]
  },
  {
   "cell_type": "code",
   "execution_count": 32,
   "metadata": {},
   "outputs": [
    {
     "name": "stdout",
     "output_type": "stream",
     "text": [
      "[epoch:0], loss:7659.89\n",
      "[epoch:500], loss:977.63\n",
      "[epoch:1000], loss:963.55\n",
      "[epoch:1500], loss:958.53\n",
      "[epoch:2000], loss:957.36\n",
      "[epoch:2500], loss:957.22\n",
      "[epoch:3000], loss:957.21\n",
      "[epoch:3500], loss:957.21\n",
      "[epoch:4000], loss:957.21\n",
      "[epoch:4500], loss:957.21\n",
      "[epoch:4999], loss:957.21\n"
     ]
    },
    {
     "data": {
      "text/plain": [
       "{'weight': array([[ 1.41317137,  1.93435555,  2.34801874,  5.46058912,  6.20565868,\n",
       "          6.75386006,  8.16620913,  6.75648611,  6.94832006, 11.82298526]]),\n",
       " 'bias': array([-2.21797533])}"
      ]
     },
     "metadata": {},
     "output_type": "display_data"
    }
   ],
   "source": [
    "class LinearModelErrorsWeightsMSE(LinearModelMSE):\n",
    "    \"\"\"\n",
    "    \"\"\"\n",
    "    def __init__(self, in_features, out_features, bias=True):\n",
    "        super().__init__(in_features, out_features)\n",
    "        \n",
    "    def fit(self, X, y, y_errors, weights, lr=0.05, steps=2000):\n",
    "        \"\"\"Fit model to data\n",
    "        \"\"\"\n",
    "        # set up optimizer and loss function\n",
    "        self.optimizer = torch.optim.Adam(self.model.parameters(), lr=lr)\n",
    "        self.loss_fn = torch.nn.MSELoss(reduction='none')\n",
    "\n",
    "        for j in range(steps):\n",
    "            # initialize gradients to zero\n",
    "            self.optimizer.zero_grad()\n",
    "            \n",
    "            # run the model forward on the data\n",
    "            y_pred = self.model(X).squeeze(-1)\n",
    "\n",
    "            # calculate the mse loss\n",
    "            loss = self.loss_fn(y_pred, y_train)\n",
    "            \n",
    "            # for each sample, divide the loss by its measurement error and multiply by sample weight\n",
    "            loss = loss/y_errors\n",
    "            loss = loss * weights\n",
    "            loss = loss.sum()\n",
    "\n",
    "            # backpropagate\n",
    "            loss.backward()\n",
    "\n",
    "            # take a gradient step\n",
    "            self.optimizer.step()            \n",
    "            \n",
    "            if j % 500 == 0:\n",
    "                print('[epoch:{}], loss:{:.2f}'.format(j, loss.item()))\n",
    "        print('[epoch:{}], loss:{:.2f}'.format(j, loss))\n",
    "        \n",
    "\n",
    "mse_model_errors_weights = LinearModelErrorsWeightsMSE(X_train.shape[1], 1, bias=True)\n",
    "mse_model_errors_weights.fit(X_train, y_train, \n",
    "                             stdev_train, \n",
    "                             weights=torch.tensor(weights), \n",
    "                             lr=0.05, \n",
    "                             steps=5000)\n",
    "\n",
    "display(mse_model_errors_weights.get_params())"
   ]
  },
  {
   "cell_type": "markdown",
   "metadata": {},
   "source": [
    "## Modify Bayesian model to accept sample weights"
   ]
  },
  {
   "cell_type": "code",
   "execution_count": 33,
   "metadata": {},
   "outputs": [
    {
     "name": "stdout",
     "output_type": "stream",
     "text": [
      "[epoch:0], loss:522.41\n",
      "[epoch:500], loss:277.51\n",
      "[epoch:1000], loss:270.78\n",
      "[epoch:1500], loss:268.23\n",
      "[epoch:2000], loss:261.98\n",
      "[epoch:2500], loss:266.88\n",
      "[epoch:3000], loss:263.61\n",
      "[epoch:3500], loss:262.16\n",
      "[epoch:4000], loss:261.97\n",
      "[epoch:4500], loss:261.44\n",
      "[epoch:4999], loss:262.88\n"
     ]
    },
    {
     "data": {
      "text/plain": [
       "{'AutoDiagonalNormal.loc': Parameter containing:\n",
       " tensor([ 2.8753,  0.6879,  1.8764,  2.0481,  4.9248,  5.5744,  6.6913,  5.1984,\n",
       "          4.3095,  5.6687, 11.7015, -0.0273], requires_grad=True),\n",
       " 'AutoDiagonalNormal.scale': tensor([1.1108, 0.4373, 0.2344, 0.8958, 1.0315, 0.7486, 0.5122, 1.8930, 0.8937,\n",
       "         1.9553, 1.0309, 0.4567], grad_fn=<AddBackward0>)}"
      ]
     },
     "metadata": {},
     "output_type": "display_data"
    }
   ],
   "source": [
    "class BayesianLinearModelWeights(object):\n",
    "    \"\"\"A hierarchical Bayesian linear model which accounts for measurement error in y.\n",
    "    \"\"\"\n",
    "    \n",
    "    def __init__(self, in_features, out_features, bias=True, non_linear=False, noise=0.5):\n",
    "        \n",
    "        self.in_features = in_features\n",
    "        self.out_features = out_features\n",
    "\n",
    "        self.use_bias = bias\n",
    "        self.non_linear = non_linear\n",
    "        self.noise = noise\n",
    "        \n",
    "        # set the model and the guide\n",
    "        self.model = self.linear_model\n",
    "        self.guide = AutoDiagonalNormal(self.model)\n",
    "        \n",
    "    def linear_model(self, X, y=None, y_errors=None, weights=None):\n",
    "        '''A bayesian linear model which accounts for errors in y\n",
    "        when estimating the hidden variables.\n",
    "        '''\n",
    "        # initialize the bias\n",
    "        if self.use_bias is True:\n",
    "            self.bias = pyro.sample('bias', dist.Normal(0.0, 10.0)).double()\n",
    "            \n",
    "        # set all weights to 1.0 if not provided\n",
    "        if weights is None:\n",
    "            weights = torch.ones(X.shape[0])\n",
    "\n",
    "        # initialize the weights for each of the features\n",
    "        with pyro.plate('weight_plate', X.shape[1]):\n",
    "            self.weight = pyro.sample('weight', dist.Normal(0.0, 10.0)).double()\n",
    "            \n",
    "            # initialize exponents of X (for non-linearity)\n",
    "            if self.non_linear is True:\n",
    "                self.exponents = pyro.sample('exponents', dist.Normal(1.0, 1.0)).double()\n",
    "        \n",
    "        # sample the error\n",
    "        self.epsilon = pyro.sample('epsilon', dist.Normal(0.0, self.noise))       \n",
    "\n",
    "        with pyro.plate('observed_data', X.shape[0]):\n",
    "            with pyro.poutine.scale(scale=weights):\n",
    "      \n",
    "                # sample distributions to make predictions for y\n",
    "                if self.use_bias is True and self.non_linear is False:\n",
    "                    logits = self.bias + X.matmul(self.weight) + self.epsilon\n",
    "\n",
    "                elif self.use_bias is False and self.non_linear is False:\n",
    "                    logits = X.matmul(self.weight) + self.epsilon\n",
    "\n",
    "                elif self.use_bias is True and self.non_linear is True:\n",
    "                    logits = self.bias + X.pow(self.exponents).matmul(self.weight) + self.epsilon\n",
    "\n",
    "                elif self.use_bias is False and self.non_linear is True:\n",
    "                    logits = X.pow(self.exponents).matmul(self.weight) + self.epsilon\n",
    "\n",
    "                else:\n",
    "                    raise ValueError\n",
    "\n",
    "                # compare with the observed data\n",
    "                if y_errors is None:\n",
    "                    pyro.sample('obs', dist.Normal(logits, torch.tensor(np.ones(X.shape[0])/10000)), obs=y)\n",
    "                else:\n",
    "                    pyro.sample('obs', dist.Normal(logits, y_errors), obs=y)\n",
    "\n",
    "    def fit(self, X, y, y_errors=None, noise=0.5, weights=None, lr=0.01, steps=2000):\n",
    "        \"\"\"Fit model using stochastic variational inference (SVI)\n",
    "        \"\"\"\n",
    "        # Clear all the parameter store\n",
    "        pyro.clear_param_store()\n",
    "\n",
    "        self.optimizer = ClippedAdam({\"lr\": lr})\n",
    "        svi = SVI(model=self.model, guide=self.guide, optim=self.optimizer, loss=Trace_ELBO())\n",
    "\n",
    "        for i in range(steps):\n",
    "            loss = svi.step(X, y, y_errors, weights)\n",
    "            if i % 500 == 0:\n",
    "                print('[epoch:{}], loss:{:.2f}'.format(i, loss))\n",
    "        print('[epoch:{}], loss:{:.2f}'.format(i, loss))\n",
    "        \n",
    "    def predict(self, X, return_std=False):\n",
    "        \"\"\"Predict on new data.\n",
    "        \"\"\"\n",
    "        self.guide.requires_grad_(False)\n",
    "        \n",
    "        # define sites to sample\n",
    "        predictive = pyro.infer.Predictive(self.model, guide=self.guide, num_samples=500,\n",
    "                                return_sites=(\"weight\", \"bias\", \"epsilon\", \"obs\"))\n",
    "        \n",
    "        # make the predictions\n",
    "        self.samples = predictive(X, y=None, y_errors=None)\n",
    "        \n",
    "        # get teh average and return\n",
    "        y_hat = self.samples['obs'].mean(axis=0).numpy()\n",
    "        std = self.samples['obs'].mean(axis=0).numpy()\n",
    "        \n",
    "        if return_std is True:\n",
    "            return y_hat, std\n",
    "        else:\n",
    "            return y_hat\n",
    "        \n",
    "    def get_samples(self):\n",
    "        \"\"\"Return all the sampled sites\n",
    "        \"\"\"\n",
    "        return self.samples       \n",
    "        \n",
    "    def get_params(self, quantiles=False):\n",
    "        \"\"\"Get all the model parameters\n",
    "        \"\"\"\n",
    "        self.guide.requires_grad_(False)\n",
    "\n",
    "        if quantiles is False:\n",
    "            params = {}\n",
    "            for name, value in pyro.get_param_store().items():\n",
    "                params[name] = pyro.param(name)\n",
    "        else:\n",
    "            pass\n",
    "\n",
    "        return params\n",
    "    \n",
    "#         return self.guide.quantiles([0.25, 0.5, 0.75])\n",
    "    \n",
    "    \n",
    "# stdev_train\n",
    "bayesian_model_weights = BayesianLinearModelWeights(X_train.shape[1], \n",
    "                                                    y_train.shape[0], \n",
    "                                                    bias=True, \n",
    "                                                    non_linear=False)\n",
    "bayesian_model_weights.fit(X_train, y_train, \n",
    "                           stdev_train, \n",
    "                           noise=0.5, \n",
    "                           weights=torch.tensor(weights), \n",
    "                           steps=5000)\n",
    "\n",
    "display(bayesian_model.get_params())"
   ]
  },
  {
   "cell_type": "markdown",
   "metadata": {},
   "source": [
    "## Predict on unbalanced data and compare"
   ]
  },
  {
   "cell_type": "code",
   "execution_count": 34,
   "metadata": {},
   "outputs": [],
   "source": [
    "# data to tensor\n",
    "X_test = torch.tensor(X_test)\n",
    "y_test = torch.tensor(y_test)"
   ]
  },
  {
   "cell_type": "code",
   "execution_count": 35,
   "metadata": {},
   "outputs": [
    {
     "data": {
      "image/png": "[encoded data removed]",
      "text/plain": [
       "<Figure size 864x288 with 3 Axes>"
      ]
     },
     "metadata": {
      "needs_background": "light"
     },
     "output_type": "display_data"
    }
   ],
   "source": [
    "# predict\n",
    "yhat_classical = mse_model.predict(X_test)\n",
    "yhat_errors = mse_model_errors_weights.predict(X_test)\n",
    "yhat_bayes = bayesian_model_weights.predict(X_test)\n",
    "\n",
    "# calculate rmsd and r2\n",
    "rmsd_classical = mean_squared_error(y_true=y_test, y_pred=yhat_classical, sample_weight=None, squared=False)\n",
    "r2_classical = r2_score(y_true=y_test, y_pred=yhat_classical, sample_weight=None)\n",
    "\n",
    "rmsd_errors = mean_squared_error(y_true=y_test, y_pred=yhat_errors, sample_weight=None, squared=False)\n",
    "r2_errors = r2_score(y_true=y_test, y_pred=yhat_errors, sample_weight=None)\n",
    "\n",
    "rmsd_bayes = mean_squared_error(y_true=y_test, y_pred=yhat_bayes, sample_weight=None, squared=False)\n",
    "r2_bayes = r2_score(y_true=y_test, y_pred=yhat_bayes, sample_weight=None)\n",
    "\n",
    "# plot the predictions\n",
    "fig, ax = plt.subplots(nrows=1, ncols=3, figsize=(12, 4), sharey=False)\n",
    "\n",
    "ax[0].errorbar(y_test.numpy(), yhat_classical, fmt=\"o\")\n",
    "ax[0].plot([0, 1], [0, 1], transform=ax[0].transAxes)\n",
    "ax[0].text(x=0.05, y=0.90, s='RMSD={:.2f}'.format(rmsd_classical), transform=ax[0].transAxes)\n",
    "ax[0].text(x=0.05, y=0.85, s='R2={:.2f}'.format(r2_classical), transform=ax[0].transAxes)\n",
    "ax[0].set(xlabel=\"y\",\n",
    "          ylabel=\"y_hat\",\n",
    "          title=\"Classical model, MSE, unbalanced data\",\n",
    "          xlim=(-20, 120),\n",
    "          ylim=(-20, 120))\n",
    "\n",
    "ax[1].errorbar(y_test.numpy(), yhat_errors, fmt=\"o\")\n",
    "ax[1].plot([0, 1], [0, 1], transform=ax[1].transAxes)\n",
    "ax[1].text(x=0.05, y=0.90, s='RMSD={:.2f}'.format(rmsd_errors), transform=ax[1].transAxes)\n",
    "ax[1].text(x=0.05, y=0.85, s='R2={:.2f}'.format(r2_errors), transform=ax[1].transAxes)\n",
    "ax[1].set(xlabel=\"y\",\n",
    "          ylabel=\"y_hat\",\n",
    "          title=\"Classical model, modified MSE, unbalanced data\",\n",
    "          xlim=(-20, 120),\n",
    "          ylim=(-20, 120))\n",
    "\n",
    "ax[2].errorbar(y_test.numpy(), yhat_bayes, fmt=\"o\")\n",
    "ax[2].plot([0, 1], [0, 1], transform=ax[2].transAxes)\n",
    "ax[2].text(x=0.05, y=0.90, s='RMSD={:.2f}'.format(rmsd_bayes), transform=ax[2].transAxes)\n",
    "ax[2].text(x=0.05, y=0.85, s='R2={:.2f}'.format(r2_bayes), transform=ax[2].transAxes)\n",
    "ax[2].set(xlabel=\"y\",\n",
    "          ylabel=\"y_hat\",\n",
    "          title=\"Bayesian model, unbalanced data\",\n",
    "          xlim=(-20, 120),\n",
    "          ylim=(-20, 120))\n",
    "\n",
    "plt.tight_layout()\n",
    "plt.show()"
   ]
  },
  {
   "cell_type": "markdown",
   "metadata": {},
   "source": [
    "Observations: "
   ]
  }
 ],
 "metadata": {
  "kernelspec": {
   "display_name": "Python 3",
   "language": "python",
   "name": "python3"
  },
  "language_info": {
   "codemirror_mode": {
    "name": "ipython",
    "version": 3
   },
   "file_extension": ".py",
   "mimetype": "text/x-python",
   "name": "python",
   "nbconvert_exporter": "python",
   "pygments_lexer": "ipython3",
   "version": "3.7.9"
  }
 },
 "nbformat": 4,
 "nbformat_minor": 4
}
